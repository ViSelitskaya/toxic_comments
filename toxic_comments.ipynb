{
 "cells": [
  {
   "cell_type": "markdown",
   "metadata": {
    "toc": true
   },
   "source": [
    "<h1>Содержание<span class=\"tocSkip\"></span></h1>\n",
    "<div class=\"toc\"><ul class=\"toc-item\"><li><span><a href=\"#Подготовка\" data-toc-modified-id=\"Подготовка-1\"><span class=\"toc-item-num\">1&nbsp;&nbsp;</span>Подготовка</a></span></li><li><span><a href=\"#Обучение\" data-toc-modified-id=\"Обучение-2\"><span class=\"toc-item-num\">2&nbsp;&nbsp;</span>Обучение</a></span><ul class=\"toc-item\"><li><span><a href=\"#Логистическая-регрессия\" data-toc-modified-id=\"Логистическая-регрессия-2.1\"><span class=\"toc-item-num\">2.1&nbsp;&nbsp;</span>Логистическая регрессия</a></span></li><li><span><a href=\"#Случайный-лес\" data-toc-modified-id=\"Случайный-лес-2.2\"><span class=\"toc-item-num\">2.2&nbsp;&nbsp;</span>Случайный лес</a></span></li><li><span><a href=\"#LGBMClassifier\" data-toc-modified-id=\"LGBMClassifier-2.3\"><span class=\"toc-item-num\">2.3&nbsp;&nbsp;</span>LGBMClassifier</a></span></li><li><span><a href=\"#Тестирование-лучшей-модели\" data-toc-modified-id=\"Тестирование-лучшей-модели-2.4\"><span class=\"toc-item-num\">2.4&nbsp;&nbsp;</span>Тестирование лучшей модели</a></span></li></ul></li><li><span><a href=\"#Выводы\" data-toc-modified-id=\"Выводы-3\"><span class=\"toc-item-num\">3&nbsp;&nbsp;</span>Выводы</a></span></li><li><span><a href=\"#Чек-лист-проверки\" data-toc-modified-id=\"Чек-лист-проверки-4\"><span class=\"toc-item-num\">4&nbsp;&nbsp;</span>Чек-лист проверки</a></span></li></ul></div>"
   ]
  },
  {
   "cell_type": "markdown",
   "metadata": {},
   "source": [
    "## Подготовка"
   ]
  },
  {
   "cell_type": "code",
   "execution_count": 1,
   "metadata": {},
   "outputs": [],
   "source": [
    "import pandas as pd\n",
    "import numpy as np\n",
    "import re\n",
    "import nltk\n",
    "\n",
    "from nltk.corpus import stopwords\n",
    "from nltk.stem import WordNetLemmatizer\n",
    "from nltk.tokenize import WhitespaceTokenizer\n",
    "from nltk.corpus import wordnet\n",
    "from sklearn.feature_extraction.text import TfidfVectorizer\n",
    "from nltk.corpus import stopwords as nltk_stopwords\n",
    "from sklearn.utils import shuffle\n",
    "from sklearn.model_selection import train_test_split\n",
    "from sklearn.metrics import f1_score\n",
    "\n",
    "from sklearn.linear_model import LogisticRegression\n",
    "from sklearn.ensemble import RandomForestClassifier\n",
    "from lightgbm import LGBMClassifier"
   ]
  },
  {
   "cell_type": "code",
   "execution_count": 2,
   "metadata": {},
   "outputs": [],
   "source": [
    "data = pd.read_csv('/datasets/toxic_comments.csv')"
   ]
  },
  {
   "cell_type": "code",
   "execution_count": 3,
   "metadata": {},
   "outputs": [
    {
     "data": {
      "text/html": [
       "<div>\n",
       "<style scoped>\n",
       "    .dataframe tbody tr th:only-of-type {\n",
       "        vertical-align: middle;\n",
       "    }\n",
       "\n",
       "    .dataframe tbody tr th {\n",
       "        vertical-align: top;\n",
       "    }\n",
       "\n",
       "    .dataframe thead th {\n",
       "        text-align: right;\n",
       "    }\n",
       "</style>\n",
       "<table border=\"1\" class=\"dataframe\">\n",
       "  <thead>\n",
       "    <tr style=\"text-align: right;\">\n",
       "      <th></th>\n",
       "      <th>Unnamed: 0</th>\n",
       "      <th>text</th>\n",
       "      <th>toxic</th>\n",
       "    </tr>\n",
       "  </thead>\n",
       "  <tbody>\n",
       "    <tr>\n",
       "      <th>0</th>\n",
       "      <td>0</td>\n",
       "      <td>Explanation\\nWhy the edits made under my usern...</td>\n",
       "      <td>0</td>\n",
       "    </tr>\n",
       "    <tr>\n",
       "      <th>1</th>\n",
       "      <td>1</td>\n",
       "      <td>D'aww! He matches this background colour I'm s...</td>\n",
       "      <td>0</td>\n",
       "    </tr>\n",
       "    <tr>\n",
       "      <th>2</th>\n",
       "      <td>2</td>\n",
       "      <td>Hey man, I'm really not trying to edit war. It...</td>\n",
       "      <td>0</td>\n",
       "    </tr>\n",
       "    <tr>\n",
       "      <th>3</th>\n",
       "      <td>3</td>\n",
       "      <td>\"\\nMore\\nI can't make any real suggestions on ...</td>\n",
       "      <td>0</td>\n",
       "    </tr>\n",
       "    <tr>\n",
       "      <th>4</th>\n",
       "      <td>4</td>\n",
       "      <td>You, sir, are my hero. Any chance you remember...</td>\n",
       "      <td>0</td>\n",
       "    </tr>\n",
       "  </tbody>\n",
       "</table>\n",
       "</div>"
      ],
      "text/plain": [
       "   Unnamed: 0                                               text  toxic\n",
       "0           0  Explanation\\nWhy the edits made under my usern...      0\n",
       "1           1  D'aww! He matches this background colour I'm s...      0\n",
       "2           2  Hey man, I'm really not trying to edit war. It...      0\n",
       "3           3  \"\\nMore\\nI can't make any real suggestions on ...      0\n",
       "4           4  You, sir, are my hero. Any chance you remember...      0"
      ]
     },
     "execution_count": 3,
     "metadata": {},
     "output_type": "execute_result"
    }
   ],
   "source": [
    "data.head()"
   ]
  },
  {
   "cell_type": "code",
   "execution_count": 4,
   "metadata": {},
   "outputs": [
    {
     "name": "stdout",
     "output_type": "stream",
     "text": [
      "<class 'pandas.core.frame.DataFrame'>\n",
      "RangeIndex: 159292 entries, 0 to 159291\n",
      "Data columns (total 3 columns):\n",
      " #   Column      Non-Null Count   Dtype \n",
      "---  ------      --------------   ----- \n",
      " 0   Unnamed: 0  159292 non-null  int64 \n",
      " 1   text        159292 non-null  object\n",
      " 2   toxic       159292 non-null  int64 \n",
      "dtypes: int64(2), object(1)\n",
      "memory usage: 3.6+ MB\n"
     ]
    }
   ],
   "source": [
    "data.info()"
   ]
  },
  {
   "cell_type": "markdown",
   "metadata": {},
   "source": [
    "Данные представляют из себя таблицу состоящую из 3 колонок и 159292 строк. Выборка очень большая, поэтому, чтобы немного облегчить задачу и сократить время выполнения кода уменьшим количество строк до 15000"
   ]
  },
  {
   "cell_type": "markdown",
   "metadata": {},
   "source": [
    "Теперь проверим датасет на пропуски и удалим столбец Unnamed: 0, он не понадобится в процессе обучения."
   ]
  },
  {
   "cell_type": "code",
   "execution_count": 5,
   "metadata": {},
   "outputs": [
    {
     "data": {
      "text/plain": [
       "Unnamed: 0    0\n",
       "text          0\n",
       "toxic         0\n",
       "dtype: int64"
      ]
     },
     "execution_count": 5,
     "metadata": {},
     "output_type": "execute_result"
    }
   ],
   "source": [
    "data.isna().sum() #проверка пропусков"
   ]
  },
  {
   "cell_type": "code",
   "execution_count": 6,
   "metadata": {},
   "outputs": [],
   "source": [
    "data = data.drop('Unnamed: 0',axis=1) #удаляем столбец"
   ]
  },
  {
   "cell_type": "markdown",
   "metadata": {},
   "source": [
    "В столбце toxic находится целевой признак, в котором указана информация о комментарии, токсичен он или нет. Нам нужно проверить баланс классов для этого столбца. Построим гистограмму и применим метод value_counts, который вернет нам количество значений по каждому классу, чтоб точно знать во сколько раз отличаются классы."
   ]
  },
  {
   "cell_type": "code",
   "execution_count": 7,
   "metadata": {},
   "outputs": [
    {
     "data": {
      "image/png": "[encoded data removed]",
      "text/plain": [
       "<Figure size 432x288 with 1 Axes>"
      ]
     },
     "metadata": {
      "needs_background": "light"
     },
     "output_type": "display_data"
    }
   ],
   "source": [
    "data['toxic'].hist(); #создаем гистограмму"
   ]
  },
  {
   "cell_type": "code",
   "execution_count": 8,
   "metadata": {},
   "outputs": [
    {
     "data": {
      "text/plain": [
       "0    143106\n",
       "1     16186\n",
       "Name: toxic, dtype: int64"
      ]
     },
     "execution_count": 8,
     "metadata": {},
     "output_type": "execute_result"
    }
   ],
   "source": [
    "data['toxic'].value_counts()"
   ]
  },
  {
   "cell_type": "markdown",
   "metadata": {},
   "source": [
    "Между классами большой дисбаланс, почти в 10 раз отличается количество токсичных комментариев от количества нетоксичных. Для модели очень важен баланс классов, поэтому для уравновешивания к моедлям добавим гиперпараметр balanced. Но сначала подготовим столбец с комментариями к обучению, проведя лемматизацию, очистку текста и переведя слова в векторы."
   ]
  },
  {
   "cell_type": "markdown",
   "metadata": {},
   "source": [
    "Сначала напишем 2 функции, одна проведет лемматизацию для каждого комментария, а вторая очистит текст от ненужных нам символов"
   ]
  },
  {
   "cell_type": "code",
   "execution_count": 9,
   "metadata": {},
   "outputs": [],
   "source": [
    "data['text'] = data['text'].str.lower()"
   ]
  },
  {
   "cell_type": "code",
   "execution_count": 10,
   "metadata": {},
   "outputs": [
    {
     "name": "stderr",
     "output_type": "stream",
     "text": [
      "[nltk_data] Downloading package averaged_perceptron_tagger to\n",
      "[nltk_data]     /home/jovyan/nltk_data...\n",
      "[nltk_data]   Package averaged_perceptron_tagger is already up-to-\n",
      "[nltk_data]       date!\n"
     ]
    },
    {
     "data": {
      "text/plain": [
       "True"
      ]
     },
     "execution_count": 10,
     "metadata": {},
     "output_type": "execute_result"
    }
   ],
   "source": [
    "nltk.download('averaged_perceptron_tagger')"
   ]
  },
  {
   "cell_type": "code",
   "execution_count": 11,
   "metadata": {},
   "outputs": [],
   "source": [
    "def get_wordnet_pos(word):\n",
    "    \"\"\"Map POS tag to first character lemmatize() accepts\"\"\"\n",
    "    tag = nltk.pos_tag([word])[0][1][0].upper()\n",
    "    tag_dict = {\"J\": wordnet.ADJ,\n",
    "                \"N\": wordnet.NOUN,\n",
    "                \"V\": wordnet.VERB,\n",
    "                \"R\": wordnet.ADV}\n",
    "    return tag_dict.get(tag, wordnet.NOUN)"
   ]
  },
  {
   "cell_type": "code",
   "execution_count": 12,
   "metadata": {},
   "outputs": [],
   "source": [
    "tokenizer = WhitespaceTokenizer()\n",
    "lemmatizer = WordNetLemmatizer()\n",
    "def lemmatize(text):\n",
    "    return [lemmatizer.lemmatize(i, get_wordnet_pos(i)) for i in tokenizer.tokenize(text)]\n",
    "data['text'] = data.text.apply(lemmatize)"
   ]
  },
  {
   "cell_type": "code",
   "execution_count": 13,
   "metadata": {},
   "outputs": [],
   "source": [
    "def clear_text(text):\n",
    "    clear_text = re.sub(r'[^a-zA-Z ]', ' ', text)\n",
    "    clear_text = clear_text.split()\n",
    "    clear_text = \" \".join(clear_text)\n",
    "    return clear_text\n",
    "data['text'] = data['text'].apply(str)\n",
    "data['text'] = data.text.apply(clear_text)"
   ]
  },
  {
   "cell_type": "markdown",
   "metadata": {},
   "source": [
    "<font color='purple'><b>Комментарий студента</b></font> Привела)"
   ]
  },
  {
   "cell_type": "code",
   "execution_count": 14,
   "metadata": {
    "scrolled": true
   },
   "outputs": [
    {
     "data": {
      "text/plain": [
       "array(['explanation why the edits make under my username hardcore metallica fan be reverted they weren t vandalisms just closure on some gas after i vote at new york doll fac and please don t remove the template from the talk page since i m retire now',\n",
       "       'd aww he match this background colour i m seemingly stuck with thanks talk january utc',\n",
       "       'hey man i m really not try to edit war it s just that this guy be constantly remove relevant information and talk to me through edits instead of my talk page he seem to care more about the format than the actual info'],\n",
       "      dtype=object)"
      ]
     },
     "execution_count": 14,
     "metadata": {},
     "output_type": "execute_result"
    }
   ],
   "source": [
    "data['text'].values[:3]"
   ]
  },
  {
   "cell_type": "markdown",
   "metadata": {},
   "source": [
    "Теперь разделим данные на 3 выборки, обучающую, валидационную и тестовую, выделим признак, к которум относится столбец с комментариями. Каждый из них закодируем с помощью TF IDF."
   ]
  },
  {
   "cell_type": "code",
   "execution_count": 15,
   "metadata": {},
   "outputs": [],
   "source": [
    "train, test = train_test_split(data, test_size=0.1)\n",
    "train, valid = train_test_split(train, test_size=0.1)"
   ]
  },
  {
   "cell_type": "code",
   "execution_count": 16,
   "metadata": {},
   "outputs": [],
   "source": [
    "features_train = train['text']\n",
    "features_valid = valid['text']\n",
    "features_test = test['text']"
   ]
  },
  {
   "cell_type": "code",
   "execution_count": 17,
   "metadata": {},
   "outputs": [],
   "source": [
    "vectorizer = TfidfVectorizer()\n",
    "features_train = vectorizer.fit_transform(features_train)"
   ]
  },
  {
   "cell_type": "code",
   "execution_count": 18,
   "metadata": {},
   "outputs": [],
   "source": [
    "features_valid = vectorizer.transform(features_valid)\n",
    "features_test = vectorizer.transform(features_test)"
   ]
  },
  {
   "cell_type": "markdown",
   "metadata": {},
   "source": [
    "Теперь выделим целевой признак, а заодно проверим верно ли закодирован текст."
   ]
  },
  {
   "cell_type": "code",
   "execution_count": 19,
   "metadata": {},
   "outputs": [],
   "source": [
    "target_train = train['toxic']\n",
    "target_valid = valid['toxic']\n",
    "target_test = test['toxic']"
   ]
  },
  {
   "cell_type": "code",
   "execution_count": 20,
   "metadata": {},
   "outputs": [
    {
     "data": {
      "text/plain": [
       "(129025, 143984)"
      ]
     },
     "execution_count": 20,
     "metadata": {},
     "output_type": "execute_result"
    }
   ],
   "source": [
    "features_train.shape"
   ]
  },
  {
   "cell_type": "code",
   "execution_count": null,
   "metadata": {},
   "outputs": [],
   "source": [
    "features_valid.shape"
   ]
  },
  {
   "cell_type": "markdown",
   "metadata": {},
   "source": [
    "## Обучение"
   ]
  },
  {
   "cell_type": "markdown",
   "metadata": {},
   "source": [
    "Текст подготовлен, можно переходить к обученияю моделей. Их у нас будет три: логистическая регрессия, случайный лес и LGBMClassifier."
   ]
  },
  {
   "cell_type": "markdown",
   "metadata": {},
   "source": [
    "### Логистическая регрессия"
   ]
  },
  {
   "cell_type": "code",
   "execution_count": 26,
   "metadata": {},
   "outputs": [
    {
     "name": "stdout",
     "output_type": "stream",
     "text": [
      "Значение F1 на валидационной выборке: 0.7643312101910829\n"
     ]
    },
    {
     "name": "stderr",
     "output_type": "stream",
     "text": [
      "/opt/conda/lib/python3.9/site-packages/sklearn/linear_model/_logistic.py:763: ConvergenceWarning: lbfgs failed to converge (status=1):\n",
      "STOP: TOTAL NO. of ITERATIONS REACHED LIMIT.\n",
      "\n",
      "Increase the number of iterations (max_iter) or scale the data as shown in:\n",
      "    https://scikit-learn.org/stable/modules/preprocessing.html\n",
      "Please also refer to the documentation for alternative solver options:\n",
      "    https://scikit-learn.org/stable/modules/linear_model.html#logistic-regression\n",
      "  n_iter_i = _check_optimize_result(\n"
     ]
    }
   ],
   "source": [
    "model_logist = LogisticRegression(class_weight='balanced', C = 10)\n",
    "model_logist.fit(features_train, target_train)\n",
    "pred_logist = model_logist.predict(features_valid)\n",
    "f1_logist = f1_score(target_valid,pred_logist)\n",
    "print('Значение F1 на валидационной выборке:', f1_logist)"
   ]
  },
  {
   "cell_type": "markdown",
   "metadata": {},
   "source": [
    "### Случайный лес"
   ]
  },
  {
   "cell_type": "code",
   "execution_count": 23,
   "metadata": {},
   "outputs": [
    {
     "name": "stdout",
     "output_type": "stream",
     "text": [
      "Значение F1 на валидационной выборке: 0.75 Количество деревьев: 0 Максимальная глубина: 10\n"
     ]
    }
   ],
   "source": [
    "best_model = None\n",
    "best_result = 0.75\n",
    "best_est = 0\n",
    "best_depth = 0\n",
    "for est in range(10, 51, 10):\n",
    "    for depth in range (1, 11):\n",
    "        model_forest = RandomForestClassifier(random_state=12345, n_estimators=est, max_depth=depth,class_weight='balanced')\n",
    "        model_forest.fit(features_train, target_train)\n",
    "        c\n",
    "        f1_forest = f1_score(target_valid,pred_forest)\n",
    "        if f1_forest > best_result:\n",
    "            best_model = model_forest\n",
    "            best_result = f1_forest\n",
    "            best_est = est\n",
    "            best_depth = depth\n",
    "\n",
    "print('Значение F1 на валидационной выборке:', best_result, \"Количество деревьев:\", best_est, \"Максимальная глубина:\", depth)"
   ]
  },
  {
   "cell_type": "markdown",
   "metadata": {},
   "source": [
    "### LGBMClassifier"
   ]
  },
  {
   "cell_type": "code",
   "execution_count": 24,
   "metadata": {},
   "outputs": [
    {
     "name": "stdout",
     "output_type": "stream",
     "text": [
      "Значение F1 на валидационной выборке: 0.6267872775021885\n"
     ]
    }
   ],
   "source": [
    "model_lgbm = LGBMClassifier(boosting_type='dart',class_weight='balanced')\n",
    "model_lgbm.fit(features_train, target_train)\n",
    "pred_lgbm = model_lgbm.predict(features_valid)\n",
    "f1_lgbm = f1_score(target_valid,pred_lgbm)\n",
    "print('Значение F1 на валидационной выборке:', f1_lgbm)"
   ]
  },
  {
   "cell_type": "markdown",
   "metadata": {},
   "source": [
    "### Тестирование лучшей модели"
   ]
  },
  {
   "cell_type": "code",
   "execution_count": 27,
   "metadata": {
    "scrolled": true
   },
   "outputs": [
    {
     "name": "stdout",
     "output_type": "stream",
     "text": [
      "Значение F1 на тестовой выборке: 0.7604256542996836\n"
     ]
    }
   ],
   "source": [
    "pred_test = model_logist.predict(features_test)\n",
    "f1_test = f1_score(target_test,pred_test)\n",
    "print('Значение F1 на тестовой выборке:', f1_test)"
   ]
  },
  {
   "cell_type": "markdown",
   "metadata": {},
   "source": [
    "## Выводы"
   ]
  },
  {
   "cell_type": "markdown",
   "metadata": {},
   "source": [
    "Лучшей моделью является модель логистической регрессии, результат F1 на тестовой выборке 0.752, т.е. больше 0.75"
   ]
  }
 ],
 "metadata": {
  "ExecuteTimeLog": [
   {
    "duration": 3642,
    "start_time": "2022-11-24T17:44:42.290Z"
   },
   {
    "duration": 1199,
    "start_time": "2022-11-27T10:59:11.414Z"
   },
   {
    "duration": 132,
    "start_time": "2022-11-27T11:00:50.388Z"
   },
   {
    "duration": 9,
    "start_time": "2022-11-27T11:00:53.452Z"
   },
   {
    "duration": 0,
    "start_time": "2022-11-27T11:00:53.463Z"
   },
   {
    "duration": 0,
    "start_time": "2022-11-27T11:00:53.464Z"
   },
   {
    "duration": 2361,
    "start_time": "2022-11-27T11:01:41.918Z"
   },
   {
    "duration": 14,
    "start_time": "2022-11-27T11:01:44.281Z"
   },
   {
    "duration": 28,
    "start_time": "2022-11-27T11:01:44.296Z"
   },
   {
    "duration": 27,
    "start_time": "2022-11-27T11:01:44.326Z"
   },
   {
    "duration": 11,
    "start_time": "2022-11-27T11:01:48.883Z"
   },
   {
    "duration": 566,
    "start_time": "2022-11-27T11:01:48.896Z"
   },
   {
    "duration": 7,
    "start_time": "2022-11-27T11:01:49.464Z"
   },
   {
    "duration": 50,
    "start_time": "2022-11-27T11:10:25.320Z"
   },
   {
    "duration": 1064,
    "start_time": "2022-11-27T11:10:36.839Z"
   },
   {
    "duration": 850,
    "start_time": "2022-11-27T11:10:38.109Z"
   },
   {
    "duration": 1937,
    "start_time": "2022-11-27T11:11:16.951Z"
   },
   {
    "duration": 7,
    "start_time": "2022-11-27T11:48:32.904Z"
   },
   {
    "duration": 3,
    "start_time": "2022-11-27T11:49:12.665Z"
   },
   {
    "duration": 104,
    "start_time": "2022-11-27T11:49:16.233Z"
   },
   {
    "duration": 3,
    "start_time": "2022-11-27T11:50:02.880Z"
   },
   {
    "duration": 3,
    "start_time": "2022-11-27T11:50:09.233Z"
   },
   {
    "duration": 12,
    "start_time": "2022-11-27T11:50:09.912Z"
   },
   {
    "duration": 3,
    "start_time": "2022-11-27T11:50:56.170Z"
   },
   {
    "duration": 13,
    "start_time": "2022-11-27T11:50:57.189Z"
   },
   {
    "duration": 3,
    "start_time": "2022-11-27T11:52:36.748Z"
   },
   {
    "duration": 13,
    "start_time": "2022-11-27T11:52:37.721Z"
   },
   {
    "duration": 4,
    "start_time": "2022-11-27T11:52:45.556Z"
   },
   {
    "duration": 805,
    "start_time": "2022-11-27T11:52:45.562Z"
   },
   {
    "duration": 1104,
    "start_time": "2022-11-27T11:52:56.766Z"
   },
   {
    "duration": 2326,
    "start_time": "2022-11-27T11:52:59.251Z"
   },
   {
    "duration": 1917,
    "start_time": "2022-11-27T11:53:01.580Z"
   },
   {
    "duration": 31,
    "start_time": "2022-11-27T11:53:03.498Z"
   },
   {
    "duration": 19,
    "start_time": "2022-11-27T11:53:03.532Z"
   },
   {
    "duration": 104,
    "start_time": "2022-11-27T11:53:04.944Z"
   },
   {
    "duration": 3,
    "start_time": "2022-11-27T11:58:00.399Z"
   },
   {
    "duration": 100,
    "start_time": "2022-11-27T12:24:13.365Z"
   },
   {
    "duration": 761,
    "start_time": "2022-11-27T12:24:14.417Z"
   },
   {
    "duration": 7,
    "start_time": "2022-11-27T12:24:16.605Z"
   },
   {
    "duration": 31,
    "start_time": "2022-11-27T12:24:17.070Z"
   },
   {
    "duration": 26,
    "start_time": "2022-11-27T12:24:19.606Z"
   },
   {
    "duration": 10,
    "start_time": "2022-11-27T12:24:20.844Z"
   },
   {
    "duration": 323,
    "start_time": "2022-11-27T12:24:23.544Z"
   },
   {
    "duration": 6,
    "start_time": "2022-11-27T12:24:24.459Z"
   },
   {
    "duration": 4,
    "start_time": "2022-11-27T12:24:27.283Z"
   },
   {
    "duration": 218,
    "start_time": "2022-11-27T12:27:12.804Z"
   },
   {
    "duration": 735,
    "start_time": "2022-11-27T12:27:13.785Z"
   },
   {
    "duration": 7,
    "start_time": "2022-11-27T12:27:15.088Z"
   },
   {
    "duration": 30,
    "start_time": "2022-11-27T12:27:17.143Z"
   },
   {
    "duration": 25,
    "start_time": "2022-11-27T12:27:17.588Z"
   },
   {
    "duration": 10,
    "start_time": "2022-11-27T12:27:18.036Z"
   },
   {
    "duration": 133,
    "start_time": "2022-11-27T12:27:19.447Z"
   },
   {
    "duration": 7,
    "start_time": "2022-11-27T12:27:19.991Z"
   },
   {
    "duration": 4,
    "start_time": "2022-11-27T12:27:20.559Z"
   },
   {
    "duration": 155,
    "start_time": "2022-11-27T12:29:25.195Z"
   },
   {
    "duration": 16,
    "start_time": "2022-11-27T12:30:15.053Z"
   },
   {
    "duration": 20,
    "start_time": "2022-11-27T12:30:28.549Z"
   },
   {
    "duration": 30,
    "start_time": "2022-11-27T12:32:22.298Z"
   },
   {
    "duration": 5,
    "start_time": "2022-11-27T12:32:41.238Z"
   },
   {
    "duration": 803,
    "start_time": "2022-11-27T12:32:41.747Z"
   },
   {
    "duration": 8,
    "start_time": "2022-11-27T12:32:42.552Z"
   },
   {
    "duration": 30,
    "start_time": "2022-11-27T12:32:43.876Z"
   },
   {
    "duration": 26,
    "start_time": "2022-11-27T12:32:45.403Z"
   },
   {
    "duration": 10,
    "start_time": "2022-11-27T12:32:46.588Z"
   },
   {
    "duration": 146,
    "start_time": "2022-11-27T12:32:47.039Z"
   },
   {
    "duration": 7,
    "start_time": "2022-11-27T12:32:48.442Z"
   },
   {
    "duration": 4,
    "start_time": "2022-11-27T12:32:50.828Z"
   },
   {
    "duration": 45,
    "start_time": "2022-11-27T12:36:16.072Z"
   },
   {
    "duration": 15,
    "start_time": "2022-11-27T12:37:48.147Z"
   },
   {
    "duration": 10,
    "start_time": "2022-11-27T12:38:55.133Z"
   },
   {
    "duration": 17,
    "start_time": "2022-11-27T12:38:57.405Z"
   },
   {
    "duration": 10,
    "start_time": "2022-11-27T12:38:58.173Z"
   },
   {
    "duration": 11,
    "start_time": "2022-11-27T12:39:29.421Z"
   },
   {
    "duration": 6,
    "start_time": "2022-11-27T12:39:34.119Z"
   },
   {
    "duration": 45,
    "start_time": "2022-11-27T12:39:42.572Z"
   },
   {
    "duration": 4,
    "start_time": "2022-11-27T12:40:12.348Z"
   },
   {
    "duration": 763,
    "start_time": "2022-11-27T12:40:12.927Z"
   },
   {
    "duration": 6,
    "start_time": "2022-11-27T12:40:13.692Z"
   },
   {
    "duration": 32,
    "start_time": "2022-11-27T12:40:15.272Z"
   },
   {
    "duration": 24,
    "start_time": "2022-11-27T12:40:15.593Z"
   },
   {
    "duration": 10,
    "start_time": "2022-11-27T12:40:15.875Z"
   },
   {
    "duration": 132,
    "start_time": "2022-11-27T12:40:17.428Z"
   },
   {
    "duration": 6,
    "start_time": "2022-11-27T12:40:17.734Z"
   },
   {
    "duration": 4,
    "start_time": "2022-11-27T12:40:18.047Z"
   },
   {
    "duration": 45,
    "start_time": "2022-11-27T12:40:19.583Z"
   },
   {
    "duration": 17,
    "start_time": "2022-11-27T12:40:20.022Z"
   },
   {
    "duration": 6,
    "start_time": "2022-11-27T12:40:20.493Z"
   },
   {
    "duration": 28,
    "start_time": "2022-11-27T12:40:21.191Z"
   },
   {
    "duration": 7,
    "start_time": "2022-11-27T12:40:42.595Z"
   },
   {
    "duration": 33,
    "start_time": "2022-11-27T12:41:20.624Z"
   },
   {
    "duration": 45,
    "start_time": "2022-11-27T12:42:18.863Z"
   },
   {
    "duration": 744,
    "start_time": "2022-11-27T12:42:28.005Z"
   },
   {
    "duration": 5,
    "start_time": "2022-11-27T12:42:32.095Z"
   },
   {
    "duration": 9,
    "start_time": "2022-11-27T12:42:33.482Z"
   },
   {
    "duration": 16,
    "start_time": "2022-11-27T12:42:35.223Z"
   },
   {
    "duration": 10,
    "start_time": "2022-11-27T12:44:01.935Z"
   },
   {
    "duration": 5,
    "start_time": "2022-11-27T12:44:41.062Z"
   },
   {
    "duration": 1463,
    "start_time": "2022-11-27T12:45:58.101Z"
   },
   {
    "duration": 869,
    "start_time": "2022-11-27T12:45:59.566Z"
   },
   {
    "duration": 8,
    "start_time": "2022-11-27T12:46:01.425Z"
   },
   {
    "duration": 32,
    "start_time": "2022-11-27T12:46:03.598Z"
   },
   {
    "duration": 27,
    "start_time": "2022-11-27T12:46:05.496Z"
   },
   {
    "duration": 11,
    "start_time": "2022-11-27T12:46:06.108Z"
   },
   {
    "duration": 381,
    "start_time": "2022-11-27T12:46:06.406Z"
   },
   {
    "duration": 6,
    "start_time": "2022-11-27T12:46:08.485Z"
   },
   {
    "duration": 4,
    "start_time": "2022-11-27T12:46:09.096Z"
   },
   {
    "duration": 54,
    "start_time": "2022-11-27T12:46:11.538Z"
   },
   {
    "duration": 4,
    "start_time": "2022-11-27T12:46:11.904Z"
   },
   {
    "duration": 6,
    "start_time": "2022-11-27T12:46:13.764Z"
   },
   {
    "duration": 29,
    "start_time": "2022-11-27T12:46:14.721Z"
   },
   {
    "duration": 10,
    "start_time": "2022-11-27T12:46:15.601Z"
   },
   {
    "duration": 4,
    "start_time": "2022-11-27T12:46:35.580Z"
   },
   {
    "duration": 132,
    "start_time": "2022-11-27T12:47:39.100Z"
   },
   {
    "duration": 4,
    "start_time": "2022-11-27T12:49:31.112Z"
   },
   {
    "duration": 767,
    "start_time": "2022-11-27T12:49:31.371Z"
   },
   {
    "duration": 7,
    "start_time": "2022-11-27T12:49:32.139Z"
   },
   {
    "duration": 31,
    "start_time": "2022-11-27T12:49:32.148Z"
   },
   {
    "duration": 25,
    "start_time": "2022-11-27T12:49:33.442Z"
   },
   {
    "duration": 10,
    "start_time": "2022-11-27T12:49:33.716Z"
   },
   {
    "duration": 139,
    "start_time": "2022-11-27T12:49:37.004Z"
   },
   {
    "duration": 7,
    "start_time": "2022-11-27T12:50:33.356Z"
   },
   {
    "duration": 4,
    "start_time": "2022-11-27T12:50:33.833Z"
   },
   {
    "duration": 45,
    "start_time": "2022-11-27T12:50:35.637Z"
   },
   {
    "duration": 9,
    "start_time": "2022-11-27T12:50:36.045Z"
   },
   {
    "duration": 6,
    "start_time": "2022-11-27T12:50:37.294Z"
   },
   {
    "duration": 24,
    "start_time": "2022-11-27T12:50:37.868Z"
   },
   {
    "duration": 5,
    "start_time": "2022-11-27T12:50:40.069Z"
   },
   {
    "duration": 3,
    "start_time": "2022-11-27T12:53:09.386Z"
   },
   {
    "duration": 703,
    "start_time": "2022-11-27T12:53:37.408Z"
   },
   {
    "duration": 4,
    "start_time": "2022-11-27T12:55:19.201Z"
   },
   {
    "duration": 893,
    "start_time": "2022-11-27T12:55:19.635Z"
   },
   {
    "duration": 10,
    "start_time": "2022-11-27T12:55:20.530Z"
   },
   {
    "duration": 52,
    "start_time": "2022-11-27T12:55:20.544Z"
   },
   {
    "duration": 27,
    "start_time": "2022-11-27T12:55:21.023Z"
   },
   {
    "duration": 11,
    "start_time": "2022-11-27T12:55:21.383Z"
   },
   {
    "duration": 137,
    "start_time": "2022-11-27T12:55:21.624Z"
   },
   {
    "duration": 6,
    "start_time": "2022-11-27T12:55:21.826Z"
   },
   {
    "duration": 5,
    "start_time": "2022-11-27T12:55:22.019Z"
   },
   {
    "duration": 52,
    "start_time": "2022-11-27T12:55:22.248Z"
   },
   {
    "duration": 10,
    "start_time": "2022-11-27T12:55:22.411Z"
   },
   {
    "duration": 7,
    "start_time": "2022-11-27T12:55:22.612Z"
   },
   {
    "duration": 27,
    "start_time": "2022-11-27T12:55:24.288Z"
   },
   {
    "duration": 5,
    "start_time": "2022-11-27T12:55:24.595Z"
   },
   {
    "duration": 1915,
    "start_time": "2022-11-27T12:55:24.992Z"
   },
   {
    "duration": 21,
    "start_time": "2022-11-27T12:56:12.326Z"
   },
   {
    "duration": 3,
    "start_time": "2022-11-27T12:56:43.408Z"
   },
   {
    "duration": 731,
    "start_time": "2022-11-27T12:56:43.817Z"
   },
   {
    "duration": 6,
    "start_time": "2022-11-27T12:56:44.550Z"
   },
   {
    "duration": 29,
    "start_time": "2022-11-27T12:56:44.735Z"
   },
   {
    "duration": 25,
    "start_time": "2022-11-27T12:56:45.156Z"
   },
   {
    "duration": 9,
    "start_time": "2022-11-27T12:56:45.501Z"
   },
   {
    "duration": 132,
    "start_time": "2022-11-27T12:56:45.760Z"
   },
   {
    "duration": 6,
    "start_time": "2022-11-27T12:56:47.542Z"
   },
   {
    "duration": 1347,
    "start_time": "2022-11-27T12:57:02.664Z"
   },
   {
    "duration": 2345,
    "start_time": "2022-11-27T12:57:05.297Z"
   },
   {
    "duration": 6,
    "start_time": "2022-11-27T12:57:07.644Z"
   },
   {
    "duration": 43,
    "start_time": "2022-11-27T12:57:07.652Z"
   },
   {
    "duration": 27,
    "start_time": "2022-11-27T12:57:07.698Z"
   },
   {
    "duration": 11,
    "start_time": "2022-11-27T12:57:08.463Z"
   },
   {
    "duration": 364,
    "start_time": "2022-11-27T12:57:08.837Z"
   },
   {
    "duration": 7,
    "start_time": "2022-11-27T12:57:10.312Z"
   },
   {
    "duration": 1900,
    "start_time": "2022-11-27T12:57:10.658Z"
   },
   {
    "duration": 826,
    "start_time": "2022-11-27T12:57:35.605Z"
   },
   {
    "duration": 11,
    "start_time": "2022-11-27T12:57:44.310Z"
   },
   {
    "duration": 3,
    "start_time": "2022-11-27T12:58:44.455Z"
   },
   {
    "duration": 5,
    "start_time": "2022-11-27T12:58:45.191Z"
   },
   {
    "duration": 10,
    "start_time": "2022-11-27T12:58:56.097Z"
   },
   {
    "duration": 31,
    "start_time": "2022-11-27T13:00:09.565Z"
   },
   {
    "duration": 10,
    "start_time": "2022-11-27T13:00:11.095Z"
   },
   {
    "duration": 2,
    "start_time": "2022-11-27T13:00:20.280Z"
   },
   {
    "duration": 5,
    "start_time": "2022-11-27T13:00:21.226Z"
   },
   {
    "duration": 4,
    "start_time": "2022-11-27T13:00:28.227Z"
   },
   {
    "duration": 3,
    "start_time": "2022-11-27T13:00:29.135Z"
   },
   {
    "duration": 1325,
    "start_time": "2022-11-27T13:00:39.841Z"
   },
   {
    "duration": 857,
    "start_time": "2022-11-27T13:00:41.169Z"
   },
   {
    "duration": 8,
    "start_time": "2022-11-27T13:00:42.550Z"
   },
   {
    "duration": 32,
    "start_time": "2022-11-27T13:00:43.011Z"
   },
   {
    "duration": 26,
    "start_time": "2022-11-27T13:00:44.794Z"
   },
   {
    "duration": 10,
    "start_time": "2022-11-27T13:00:45.029Z"
   },
   {
    "duration": 337,
    "start_time": "2022-11-27T13:00:45.366Z"
   },
   {
    "duration": 6,
    "start_time": "2022-11-27T13:00:45.838Z"
   },
   {
    "duration": 1938,
    "start_time": "2022-11-27T13:00:47.635Z"
   },
   {
    "duration": 775,
    "start_time": "2022-11-27T13:00:49.575Z"
   },
   {
    "duration": 3,
    "start_time": "2022-11-27T13:00:55.851Z"
   },
   {
    "duration": 5,
    "start_time": "2022-11-27T13:00:56.486Z"
   },
   {
    "duration": 11,
    "start_time": "2022-11-27T13:00:59.280Z"
   },
   {
    "duration": 1310,
    "start_time": "2022-11-27T13:03:10.040Z"
   },
   {
    "duration": 877,
    "start_time": "2022-11-27T13:03:11.352Z"
   },
   {
    "duration": 8,
    "start_time": "2022-11-27T13:03:12.335Z"
   },
   {
    "duration": 40,
    "start_time": "2022-11-27T13:03:12.536Z"
   },
   {
    "duration": 27,
    "start_time": "2022-11-27T13:03:12.763Z"
   },
   {
    "duration": 11,
    "start_time": "2022-11-27T13:03:12.982Z"
   },
   {
    "duration": 330,
    "start_time": "2022-11-27T13:03:13.187Z"
   },
   {
    "duration": 7,
    "start_time": "2022-11-27T13:03:13.518Z"
   },
   {
    "duration": 4,
    "start_time": "2022-11-27T13:03:16.140Z"
   },
   {
    "duration": 43,
    "start_time": "2022-11-27T13:03:16.577Z"
   },
   {
    "duration": 4,
    "start_time": "2022-11-27T13:03:17.009Z"
   },
   {
    "duration": 6,
    "start_time": "2022-11-27T13:03:17.455Z"
   },
   {
    "duration": 26,
    "start_time": "2022-11-27T13:03:17.762Z"
   },
   {
    "duration": 7,
    "start_time": "2022-11-27T13:03:20.169Z"
   },
   {
    "duration": 3,
    "start_time": "2022-11-27T13:03:21.135Z"
   },
   {
    "duration": 1967,
    "start_time": "2022-11-27T13:03:31.542Z"
   },
   {
    "duration": 20,
    "start_time": "2022-11-27T13:03:33.512Z"
   },
   {
    "duration": 139,
    "start_time": "2022-11-27T13:03:35.723Z"
   },
   {
    "duration": 385,
    "start_time": "2022-11-27T13:04:12.682Z"
   },
   {
    "duration": 1435,
    "start_time": "2022-11-27T13:04:58.982Z"
   },
   {
    "duration": 1443,
    "start_time": "2022-11-27T13:06:06.399Z"
   },
   {
    "duration": 2332,
    "start_time": "2022-11-27T13:06:07.845Z"
   },
   {
    "duration": 7,
    "start_time": "2022-11-27T13:06:10.178Z"
   },
   {
    "duration": 35,
    "start_time": "2022-11-27T13:06:10.187Z"
   },
   {
    "duration": 26,
    "start_time": "2022-11-27T13:06:10.224Z"
   },
   {
    "duration": 10,
    "start_time": "2022-11-27T13:06:10.326Z"
   },
   {
    "duration": 369,
    "start_time": "2022-11-27T13:06:12.668Z"
   },
   {
    "duration": 7,
    "start_time": "2022-11-27T13:06:13.170Z"
   },
   {
    "duration": 1927,
    "start_time": "2022-11-27T13:06:15.727Z"
   },
   {
    "duration": 17,
    "start_time": "2022-11-27T13:06:17.656Z"
   },
   {
    "duration": 729,
    "start_time": "2022-11-27T13:07:28.777Z"
   },
   {
    "duration": 11,
    "start_time": "2022-11-27T13:07:37.108Z"
   },
   {
    "duration": 133,
    "start_time": "2022-11-27T13:07:57.349Z"
   },
   {
    "duration": 5,
    "start_time": "2022-11-27T13:08:01.288Z"
   },
   {
    "duration": 770,
    "start_time": "2022-11-27T13:08:45.137Z"
   },
   {
    "duration": 31,
    "start_time": "2022-11-27T13:09:14.412Z"
   },
   {
    "duration": 12,
    "start_time": "2022-11-27T13:09:20.200Z"
   },
   {
    "duration": 781,
    "start_time": "2022-11-27T13:09:34.861Z"
   },
   {
    "duration": 14,
    "start_time": "2022-11-27T13:09:53.938Z"
   },
   {
    "duration": 3,
    "start_time": "2022-11-27T13:09:58.636Z"
   },
   {
    "duration": 5,
    "start_time": "2022-11-27T13:10:41.404Z"
   },
   {
    "duration": 12,
    "start_time": "2022-11-27T13:10:42.162Z"
   },
   {
    "duration": 4,
    "start_time": "2022-11-27T13:11:07.669Z"
   },
   {
    "duration": 10,
    "start_time": "2022-11-27T13:11:19.767Z"
   },
   {
    "duration": 6,
    "start_time": "2022-11-27T13:11:33.722Z"
   },
   {
    "duration": 11,
    "start_time": "2022-11-27T13:11:51.245Z"
   },
   {
    "duration": 15,
    "start_time": "2022-11-27T13:12:41.747Z"
   },
   {
    "duration": 123,
    "start_time": "2022-11-27T13:12:53.615Z"
   },
   {
    "duration": 3,
    "start_time": "2022-11-27T13:12:54.086Z"
   },
   {
    "duration": 17,
    "start_time": "2022-11-27T13:12:54.756Z"
   },
   {
    "duration": 1346,
    "start_time": "2022-11-27T13:13:11.381Z"
   },
   {
    "duration": 829,
    "start_time": "2022-11-27T13:13:12.729Z"
   },
   {
    "duration": 7,
    "start_time": "2022-11-27T13:13:14.097Z"
   },
   {
    "duration": 31,
    "start_time": "2022-11-27T13:13:14.346Z"
   },
   {
    "duration": 27,
    "start_time": "2022-11-27T13:13:14.593Z"
   },
   {
    "duration": 10,
    "start_time": "2022-11-27T13:13:14.770Z"
   },
   {
    "duration": 339,
    "start_time": "2022-11-27T13:13:14.988Z"
   },
   {
    "duration": 9,
    "start_time": "2022-11-27T13:13:15.329Z"
   },
   {
    "duration": 1920,
    "start_time": "2022-11-27T13:13:17.690Z"
   },
   {
    "duration": 3,
    "start_time": "2022-11-27T13:13:20.219Z"
   },
   {
    "duration": 128,
    "start_time": "2022-11-27T13:13:21.624Z"
   },
   {
    "duration": 15,
    "start_time": "2022-11-27T13:13:28.254Z"
   },
   {
    "duration": 14,
    "start_time": "2022-11-27T13:14:02.754Z"
   },
   {
    "duration": 9,
    "start_time": "2022-11-27T13:14:05.637Z"
   },
   {
    "duration": 10,
    "start_time": "2022-11-27T13:14:09.019Z"
   },
   {
    "duration": 15,
    "start_time": "2022-11-27T13:14:13.657Z"
   },
   {
    "duration": 4,
    "start_time": "2022-11-27T13:14:30.404Z"
   },
   {
    "duration": 737,
    "start_time": "2022-11-27T13:14:31.039Z"
   },
   {
    "duration": 7,
    "start_time": "2022-11-27T13:14:31.778Z"
   },
   {
    "duration": 29,
    "start_time": "2022-11-27T13:14:31.939Z"
   },
   {
    "duration": 24,
    "start_time": "2022-11-27T13:14:32.152Z"
   },
   {
    "duration": 10,
    "start_time": "2022-11-27T13:14:34.803Z"
   },
   {
    "duration": 129,
    "start_time": "2022-11-27T13:14:35.043Z"
   },
   {
    "duration": 8,
    "start_time": "2022-11-27T13:14:35.258Z"
   },
   {
    "duration": 1326,
    "start_time": "2022-11-27T13:14:44.874Z"
   },
   {
    "duration": 2356,
    "start_time": "2022-11-27T13:14:46.202Z"
   },
   {
    "duration": 7,
    "start_time": "2022-11-27T13:14:48.560Z"
   },
   {
    "duration": 33,
    "start_time": "2022-11-27T13:14:48.568Z"
   },
   {
    "duration": 27,
    "start_time": "2022-11-27T13:14:49.064Z"
   },
   {
    "duration": 11,
    "start_time": "2022-11-27T13:14:49.369Z"
   },
   {
    "duration": 364,
    "start_time": "2022-11-27T13:14:49.581Z"
   },
   {
    "duration": 6,
    "start_time": "2022-11-27T13:14:49.947Z"
   },
   {
    "duration": 1939,
    "start_time": "2022-11-27T13:14:49.996Z"
   },
   {
    "duration": 10,
    "start_time": "2022-11-27T13:14:51.937Z"
   },
   {
    "duration": 158,
    "start_time": "2022-11-27T13:14:52.468Z"
   },
   {
    "duration": 13,
    "start_time": "2022-11-27T13:16:33.195Z"
   },
   {
    "duration": 31,
    "start_time": "2022-11-27T13:17:34.071Z"
   },
   {
    "duration": 3,
    "start_time": "2022-11-27T13:17:39.229Z"
   },
   {
    "duration": 14,
    "start_time": "2022-11-27T13:17:42.343Z"
   },
   {
    "duration": 9,
    "start_time": "2022-11-27T13:18:05.703Z"
   },
   {
    "duration": 35,
    "start_time": "2022-11-27T13:18:36.648Z"
   },
   {
    "duration": 16,
    "start_time": "2022-11-27T13:18:55.147Z"
   },
   {
    "duration": 4,
    "start_time": "2022-11-27T13:19:04.682Z"
   },
   {
    "duration": 29,
    "start_time": "2022-11-27T13:19:13.652Z"
   },
   {
    "duration": 4,
    "start_time": "2022-11-27T13:19:14.303Z"
   },
   {
    "duration": 3,
    "start_time": "2022-11-27T13:19:29.510Z"
   },
   {
    "duration": 11,
    "start_time": "2022-11-27T13:20:13.103Z"
   },
   {
    "duration": 4,
    "start_time": "2022-11-27T13:20:18.479Z"
   },
   {
    "duration": 44,
    "start_time": "2022-11-27T13:20:18.920Z"
   },
   {
    "duration": 5,
    "start_time": "2022-11-27T13:20:19.271Z"
   },
   {
    "duration": 6,
    "start_time": "2022-11-27T13:20:19.639Z"
   },
   {
    "duration": 150,
    "start_time": "2022-11-27T13:20:21.481Z"
   },
   {
    "duration": 6,
    "start_time": "2022-11-27T13:20:21.820Z"
   },
   {
    "duration": 211,
    "start_time": "2022-11-27T13:20:22.529Z"
   },
   {
    "duration": 214,
    "start_time": "2022-11-27T13:20:47.947Z"
   },
   {
    "duration": 34054,
    "start_time": "2022-11-27T13:27:10.275Z"
   },
   {
    "duration": 8,
    "start_time": "2022-11-27T13:28:14.154Z"
   },
   {
    "duration": 231,
    "start_time": "2022-11-27T13:30:11.705Z"
   },
   {
    "duration": 9,
    "start_time": "2022-11-27T13:30:24.671Z"
   },
   {
    "duration": 208,
    "start_time": "2022-11-27T13:30:36.264Z"
   },
   {
    "duration": 1299,
    "start_time": "2022-11-27T13:34:58.793Z"
   },
   {
    "duration": 854,
    "start_time": "2022-11-27T13:35:00.913Z"
   },
   {
    "duration": 8,
    "start_time": "2022-11-27T13:35:01.769Z"
   },
   {
    "duration": 38,
    "start_time": "2022-11-27T13:35:01.779Z"
   },
   {
    "duration": 41,
    "start_time": "2022-11-27T13:35:01.819Z"
   },
   {
    "duration": 11,
    "start_time": "2022-11-27T13:35:03.429Z"
   },
   {
    "duration": 359,
    "start_time": "2022-11-27T13:35:03.773Z"
   },
   {
    "duration": 8,
    "start_time": "2022-11-27T13:35:04.149Z"
   },
   {
    "duration": 1408,
    "start_time": "2022-11-27T13:55:20.113Z"
   },
   {
    "duration": 928,
    "start_time": "2022-11-27T13:55:21.523Z"
   },
   {
    "duration": 8,
    "start_time": "2022-11-27T13:55:22.453Z"
   },
   {
    "duration": 42,
    "start_time": "2022-11-27T13:55:22.463Z"
   },
   {
    "duration": 47,
    "start_time": "2022-11-27T13:55:22.507Z"
   },
   {
    "duration": 11,
    "start_time": "2022-11-27T13:55:23.766Z"
   },
   {
    "duration": 361,
    "start_time": "2022-11-27T13:55:24.317Z"
   },
   {
    "duration": 8,
    "start_time": "2022-11-27T13:55:26.546Z"
   },
   {
    "duration": 406185,
    "start_time": "2022-11-27T13:55:28.965Z"
   },
   {
    "duration": 1379,
    "start_time": "2022-11-27T14:04:59.518Z"
   },
   {
    "duration": 908,
    "start_time": "2022-11-27T14:05:00.900Z"
   },
   {
    "duration": 9,
    "start_time": "2022-11-27T14:05:02.558Z"
   },
   {
    "duration": 32,
    "start_time": "2022-11-27T14:05:02.850Z"
   },
   {
    "duration": 25,
    "start_time": "2022-11-27T14:05:03.389Z"
   },
   {
    "duration": 15,
    "start_time": "2022-11-27T14:05:05.135Z"
   },
   {
    "duration": 354,
    "start_time": "2022-11-27T14:05:05.366Z"
   },
   {
    "duration": 6,
    "start_time": "2022-11-27T14:05:07.301Z"
   },
   {
    "duration": 47,
    "start_time": "2022-11-27T14:05:08.435Z"
   },
   {
    "duration": 3,
    "start_time": "2022-11-27T14:05:09.878Z"
   },
   {
    "duration": 3,
    "start_time": "2022-11-27T14:05:10.626Z"
   },
   {
    "duration": 1508,
    "start_time": "2022-11-27T14:23:12.326Z"
   },
   {
    "duration": 869,
    "start_time": "2022-11-27T14:23:13.845Z"
   },
   {
    "duration": 7,
    "start_time": "2022-11-27T14:23:14.715Z"
   },
   {
    "duration": 51,
    "start_time": "2022-11-27T14:23:14.724Z"
   },
   {
    "duration": 28,
    "start_time": "2022-11-27T14:23:15.051Z"
   },
   {
    "duration": 11,
    "start_time": "2022-11-27T14:23:16.253Z"
   },
   {
    "duration": 420,
    "start_time": "2022-11-27T14:23:16.469Z"
   },
   {
    "duration": 7,
    "start_time": "2022-11-27T14:23:16.891Z"
   },
   {
    "duration": 66,
    "start_time": "2022-11-27T14:23:16.899Z"
   },
   {
    "duration": 3,
    "start_time": "2022-11-27T14:23:18.950Z"
   },
   {
    "duration": 3,
    "start_time": "2022-11-27T14:23:19.188Z"
   },
   {
    "duration": 64,
    "start_time": "2022-11-27T14:23:20.336Z"
   },
   {
    "duration": 58277,
    "start_time": "2022-11-27T14:25:15.328Z"
   },
   {
    "duration": 4,
    "start_time": "2022-11-27T14:28:53.121Z"
   },
   {
    "duration": 724,
    "start_time": "2022-11-27T14:28:54.804Z"
   },
   {
    "duration": 6,
    "start_time": "2022-11-27T14:28:55.536Z"
   },
   {
    "duration": 31,
    "start_time": "2022-11-27T14:28:57.083Z"
   },
   {
    "duration": 46,
    "start_time": "2022-11-27T14:28:57.673Z"
   },
   {
    "duration": 15,
    "start_time": "2022-11-27T14:28:59.848Z"
   },
   {
    "duration": 8,
    "start_time": "2022-11-27T14:29:00.782Z"
   },
   {
    "duration": 121,
    "start_time": "2022-11-27T14:29:01.338Z"
   },
   {
    "duration": 7,
    "start_time": "2022-11-27T14:29:03.868Z"
   },
   {
    "duration": 18,
    "start_time": "2022-11-27T14:29:09.123Z"
   },
   {
    "duration": 3,
    "start_time": "2022-11-27T14:29:10.845Z"
   },
   {
    "duration": 3,
    "start_time": "2022-11-27T14:29:11.418Z"
   },
   {
    "duration": 1379,
    "start_time": "2022-11-27T15:21:46.439Z"
   },
   {
    "duration": 890,
    "start_time": "2022-11-27T15:21:47.820Z"
   },
   {
    "duration": 8,
    "start_time": "2022-11-27T15:21:48.711Z"
   },
   {
    "duration": 44,
    "start_time": "2022-11-27T15:21:48.720Z"
   },
   {
    "duration": 25,
    "start_time": "2022-11-27T15:21:48.765Z"
   },
   {
    "duration": 7,
    "start_time": "2022-11-27T15:21:48.792Z"
   },
   {
    "duration": 19,
    "start_time": "2022-11-27T15:21:48.800Z"
   },
   {
    "duration": 352,
    "start_time": "2022-11-27T15:21:48.821Z"
   },
   {
    "duration": 6,
    "start_time": "2022-11-27T15:21:49.175Z"
   },
   {
    "duration": 4,
    "start_time": "2022-11-27T15:21:50.122Z"
   },
   {
    "duration": 2,
    "start_time": "2022-11-27T15:21:51.083Z"
   },
   {
    "duration": 3,
    "start_time": "2022-11-27T15:21:51.893Z"
   },
   {
    "duration": 241569,
    "start_time": "2022-11-27T15:21:53.109Z"
   },
   {
    "duration": 43,
    "start_time": "2022-11-27T15:28:28.419Z"
   },
   {
    "duration": 10,
    "start_time": "2022-11-27T15:29:24.654Z"
   },
   {
    "duration": 6,
    "start_time": "2022-11-27T15:34:01.940Z"
   },
   {
    "duration": 128,
    "start_time": "2022-11-27T15:34:47.110Z"
   },
   {
    "duration": 4,
    "start_time": "2022-11-27T15:34:59.851Z"
   },
   {
    "duration": 6,
    "start_time": "2022-11-27T15:35:01.893Z"
   },
   {
    "duration": 5,
    "start_time": "2022-11-27T15:35:22.227Z"
   },
   {
    "duration": 67584,
    "start_time": "2022-11-27T15:41:06.867Z"
   },
   {
    "duration": 26779,
    "start_time": "2022-11-27T15:42:14.453Z"
   },
   {
    "duration": 4,
    "start_time": "2022-11-27T15:45:25.659Z"
   },
   {
    "duration": 3,
    "start_time": "2022-11-27T15:45:26.102Z"
   },
   {
    "duration": 6,
    "start_time": "2022-11-27T15:45:26.594Z"
   },
   {
    "duration": 5,
    "start_time": "2022-11-27T15:45:27.270Z"
   },
   {
    "duration": 6,
    "start_time": "2022-11-27T15:45:49.061Z"
   },
   {
    "duration": 271,
    "start_time": "2022-11-27T15:47:53.820Z"
   },
   {
    "duration": 205,
    "start_time": "2022-11-27T19:48:58.612Z"
   },
   {
    "duration": 4,
    "start_time": "2022-11-27T19:49:18.585Z"
   },
   {
    "duration": 1359,
    "start_time": "2022-11-27T19:49:24.521Z"
   },
   {
    "duration": 886,
    "start_time": "2022-11-27T19:49:26.633Z"
   },
   {
    "duration": 7,
    "start_time": "2022-11-27T19:49:27.521Z"
   },
   {
    "duration": 30,
    "start_time": "2022-11-27T19:49:27.535Z"
   },
   {
    "duration": 24,
    "start_time": "2022-11-27T19:49:27.567Z"
   },
   {
    "duration": 7,
    "start_time": "2022-11-27T19:49:28.839Z"
   },
   {
    "duration": 4,
    "start_time": "2022-11-27T19:49:29.101Z"
   },
   {
    "duration": 330,
    "start_time": "2022-11-27T19:49:29.363Z"
   },
   {
    "duration": 5,
    "start_time": "2022-11-27T19:49:31.465Z"
   },
   {
    "duration": 6,
    "start_time": "2022-11-27T19:49:35.579Z"
   },
   {
    "duration": 4,
    "start_time": "2022-11-27T19:49:36.428Z"
   },
   {
    "duration": 244074,
    "start_time": "2022-11-27T19:49:46.493Z"
   },
   {
    "duration": 12,
    "start_time": "2022-11-27T19:55:16.971Z"
   },
   {
    "duration": 3,
    "start_time": "2022-11-27T19:55:30.788Z"
   },
   {
    "duration": 46,
    "start_time": "2022-11-27T19:55:41.989Z"
   },
   {
    "duration": 6,
    "start_time": "2022-11-27T19:55:44.830Z"
   },
   {
    "duration": 4,
    "start_time": "2022-11-27T19:56:48.996Z"
   },
   {
    "duration": 27,
    "start_time": "2022-11-27T19:56:51.870Z"
   },
   {
    "duration": 5,
    "start_time": "2022-11-27T19:56:53.124Z"
   },
   {
    "duration": 1401,
    "start_time": "2022-11-27T19:57:11.770Z"
   },
   {
    "duration": 837,
    "start_time": "2022-11-27T19:57:13.830Z"
   },
   {
    "duration": 7,
    "start_time": "2022-11-27T19:57:14.668Z"
   },
   {
    "duration": 39,
    "start_time": "2022-11-27T19:57:14.676Z"
   },
   {
    "duration": 36,
    "start_time": "2022-11-27T19:57:14.717Z"
   },
   {
    "duration": 7,
    "start_time": "2022-11-27T19:57:18.271Z"
   },
   {
    "duration": 4,
    "start_time": "2022-11-27T19:57:18.536Z"
   },
   {
    "duration": 340,
    "start_time": "2022-11-27T19:57:18.783Z"
   },
   {
    "duration": 5,
    "start_time": "2022-11-27T19:57:20.757Z"
   },
   {
    "duration": 6,
    "start_time": "2022-11-27T19:57:21.885Z"
   },
   {
    "duration": 4,
    "start_time": "2022-11-27T19:57:22.633Z"
   },
   {
    "duration": 245692,
    "start_time": "2022-11-27T19:57:23.343Z"
   },
   {
    "duration": 4,
    "start_time": "2022-11-27T20:01:47.043Z"
   },
   {
    "duration": 35,
    "start_time": "2022-11-27T20:01:49.901Z"
   },
   {
    "duration": 6,
    "start_time": "2022-11-27T20:01:51.237Z"
   },
   {
    "duration": 1374,
    "start_time": "2022-11-27T20:03:44.657Z"
   },
   {
    "duration": 857,
    "start_time": "2022-11-27T20:03:46.033Z"
   },
   {
    "duration": 7,
    "start_time": "2022-11-27T20:03:47.098Z"
   },
   {
    "duration": 31,
    "start_time": "2022-11-27T20:03:47.573Z"
   },
   {
    "duration": 26,
    "start_time": "2022-11-27T20:03:48.211Z"
   },
   {
    "duration": 10,
    "start_time": "2022-11-27T20:03:49.665Z"
   },
   {
    "duration": 6,
    "start_time": "2022-11-27T20:03:50.214Z"
   },
   {
    "duration": 365,
    "start_time": "2022-11-27T20:03:51.753Z"
   },
   {
    "duration": 5,
    "start_time": "2022-11-27T20:03:52.299Z"
   },
   {
    "duration": 8,
    "start_time": "2022-11-27T20:03:56.476Z"
   },
   {
    "duration": 3,
    "start_time": "2022-11-27T20:04:18.465Z"
   },
   {
    "duration": 3,
    "start_time": "2022-11-27T20:04:20.323Z"
   },
   {
    "duration": 8461679,
    "start_time": "2022-11-27T20:04:21.557Z"
   },
   {
    "duration": 1070062,
    "start_time": "2022-11-27T22:25:23.238Z"
   },
   {
    "duration": 964485,
    "start_time": "2022-11-27T22:43:13.301Z"
   },
   {
    "duration": 28,
    "start_time": "2022-11-27T23:01:14.165Z"
   },
   {
    "duration": 14,
    "start_time": "2022-11-27T23:01:17.014Z"
   },
   {
    "duration": 10,
    "start_time": "2022-11-27T23:01:21.918Z"
   },
   {
    "duration": 13,
    "start_time": "2022-11-27T23:01:29.801Z"
   },
   {
    "duration": 9,
    "start_time": "2022-11-27T23:01:39.594Z"
   },
   {
    "duration": 137,
    "start_time": "2022-11-27T23:01:45.307Z"
   },
   {
    "duration": 21,
    "start_time": "2022-11-27T23:01:53.771Z"
   },
   {
    "duration": 5,
    "start_time": "2022-11-27T23:02:32.177Z"
   },
   {
    "duration": 5,
    "start_time": "2022-11-27T23:02:40.559Z"
   },
   {
    "duration": 209,
    "start_time": "2022-11-27T23:02:56.428Z"
   },
   {
    "duration": 2140,
    "start_time": "2022-11-27T23:03:13.694Z"
   },
   {
    "duration": 1110,
    "start_time": "2022-11-27T23:03:16.808Z"
   },
   {
    "duration": 8,
    "start_time": "2022-11-27T23:03:17.920Z"
   },
   {
    "duration": 36,
    "start_time": "2022-11-27T23:03:17.930Z"
   },
   {
    "duration": 27,
    "start_time": "2022-11-27T23:03:19.919Z"
   },
   {
    "duration": 11,
    "start_time": "2022-11-27T23:03:20.906Z"
   },
   {
    "duration": 7,
    "start_time": "2022-11-27T23:03:21.510Z"
   },
   {
    "duration": 380,
    "start_time": "2022-11-27T23:03:22.398Z"
   },
   {
    "duration": 7,
    "start_time": "2022-11-27T23:03:24.443Z"
   },
   {
    "duration": 10,
    "start_time": "2022-11-27T23:03:27.476Z"
   },
   {
    "duration": 3,
    "start_time": "2022-11-27T23:03:29.371Z"
   },
   {
    "duration": 3,
    "start_time": "2022-11-27T23:03:30.900Z"
   },
   {
    "duration": 1516,
    "start_time": "2022-11-28T08:09:49.105Z"
   },
   {
    "duration": 3422,
    "start_time": "2022-11-28T08:09:50.624Z"
   },
   {
    "duration": 7,
    "start_time": "2022-11-28T08:09:54.047Z"
   },
   {
    "duration": 35,
    "start_time": "2022-11-28T08:09:54.056Z"
   },
   {
    "duration": 44,
    "start_time": "2022-11-28T08:09:54.092Z"
   },
   {
    "duration": 8,
    "start_time": "2022-11-28T08:09:54.138Z"
   },
   {
    "duration": 18,
    "start_time": "2022-11-28T08:09:54.147Z"
   },
   {
    "duration": 563,
    "start_time": "2022-11-28T08:09:54.167Z"
   },
   {
    "duration": 10,
    "start_time": "2022-11-28T08:09:58.027Z"
   },
   {
    "duration": 10,
    "start_time": "2022-11-28T08:10:01.301Z"
   },
   {
    "duration": 3,
    "start_time": "2022-11-28T08:10:03.700Z"
   },
   {
    "duration": 4,
    "start_time": "2022-11-28T08:10:04.533Z"
   },
   {
    "duration": 2879433,
    "start_time": "2022-11-28T08:10:45.705Z"
   },
   {
    "duration": 153,
    "start_time": "2022-11-28T08:58:45.141Z"
   },
   {
    "duration": 12,
    "start_time": "2022-11-28T08:58:45.314Z"
   },
   {
    "duration": 311700,
    "start_time": "2022-11-28T08:59:04.464Z"
   },
   {
    "duration": 10,
    "start_time": "2022-11-28T09:04:16.166Z"
   },
   {
    "duration": 34,
    "start_time": "2022-11-28T09:04:16.177Z"
   },
   {
    "duration": 220,
    "start_time": "2022-11-28T09:04:22.937Z"
   },
   {
    "duration": 8,
    "start_time": "2022-11-28T09:04:28.229Z"
   },
   {
    "duration": 6,
    "start_time": "2022-11-28T09:04:30.753Z"
   },
   {
    "duration": 4,
    "start_time": "2022-11-28T09:04:34.995Z"
   },
   {
    "duration": 7,
    "start_time": "2022-11-28T09:04:37.202Z"
   },
   {
    "duration": 5,
    "start_time": "2022-11-28T09:04:38.680Z"
   },
   {
    "duration": 154,
    "start_time": "2022-11-28T09:04:47.882Z"
   },
   {
    "duration": 34,
    "start_time": "2022-11-28T09:05:49.052Z"
   },
   {
    "duration": 23,
    "start_time": "2022-11-28T09:05:51.655Z"
   },
   {
    "duration": 5,
    "start_time": "2022-11-28T09:07:32.910Z"
   },
   {
    "duration": 6,
    "start_time": "2022-11-28T09:07:33.404Z"
   },
   {
    "duration": 6,
    "start_time": "2022-11-28T09:07:34.063Z"
   },
   {
    "duration": 231,
    "start_time": "2022-11-28T09:07:34.730Z"
   },
   {
    "duration": 37,
    "start_time": "2022-11-28T09:07:36.063Z"
   },
   {
    "duration": 25,
    "start_time": "2022-11-28T09:07:39.027Z"
   },
   {
    "duration": 200,
    "start_time": "2022-11-28T09:07:59.025Z"
   },
   {
    "duration": 28,
    "start_time": "2022-11-28T09:07:59.881Z"
   },
   {
    "duration": 15,
    "start_time": "2022-11-28T09:08:02.584Z"
   },
   {
    "duration": 4,
    "start_time": "2022-11-28T09:08:59.436Z"
   },
   {
    "duration": 5,
    "start_time": "2022-11-28T09:09:01.706Z"
   },
   {
    "duration": 8,
    "start_time": "2022-11-28T09:09:02.731Z"
   },
   {
    "duration": 31,
    "start_time": "2022-11-28T09:09:04.408Z"
   },
   {
    "duration": 6,
    "start_time": "2022-11-28T09:09:04.840Z"
   },
   {
    "duration": 13,
    "start_time": "2022-11-28T09:09:22.223Z"
   },
   {
    "duration": 5,
    "start_time": "2022-11-28T09:09:24.369Z"
   },
   {
    "duration": 10,
    "start_time": "2022-11-28T09:09:27.331Z"
   },
   {
    "duration": 31,
    "start_time": "2022-11-28T09:09:39.796Z"
   },
   {
    "duration": 3,
    "start_time": "2022-11-28T09:10:00.669Z"
   },
   {
    "duration": 213,
    "start_time": "2022-11-28T09:10:21.029Z"
   },
   {
    "duration": 2,
    "start_time": "2022-11-28T09:10:23.250Z"
   },
   {
    "duration": 4,
    "start_time": "2022-11-28T09:10:24.107Z"
   },
   {
    "duration": 5,
    "start_time": "2022-11-28T09:10:30.568Z"
   },
   {
    "duration": 4,
    "start_time": "2022-11-28T09:10:32.805Z"
   },
   {
    "duration": 22,
    "start_time": "2022-11-28T09:10:33.496Z"
   },
   {
    "duration": 1675,
    "start_time": "2022-11-28T09:16:51.711Z"
   },
   {
    "duration": 870,
    "start_time": "2022-11-28T09:16:53.388Z"
   },
   {
    "duration": 8,
    "start_time": "2022-11-28T09:16:54.388Z"
   },
   {
    "duration": 33,
    "start_time": "2022-11-28T09:16:55.646Z"
   },
   {
    "duration": 36,
    "start_time": "2022-11-28T09:16:58.004Z"
   },
   {
    "duration": 17,
    "start_time": "2022-11-28T09:16:59.018Z"
   },
   {
    "duration": 6,
    "start_time": "2022-11-28T09:17:00.598Z"
   },
   {
    "duration": 361,
    "start_time": "2022-11-28T09:17:01.449Z"
   },
   {
    "duration": 8,
    "start_time": "2022-11-28T09:17:03.608Z"
   },
   {
    "duration": 4,
    "start_time": "2022-11-28T09:17:05.780Z"
   },
   {
    "duration": 141,
    "start_time": "2022-11-28T09:17:10.769Z"
   },
   {
    "duration": 8,
    "start_time": "2022-11-28T09:17:31.633Z"
   },
   {
    "duration": 20,
    "start_time": "2022-11-28T09:17:32.324Z"
   },
   {
    "duration": 15,
    "start_time": "2022-11-28T09:17:46.467Z"
   },
   {
    "duration": 14134,
    "start_time": "2022-11-28T09:19:25.562Z"
   },
   {
    "duration": 4,
    "start_time": "2022-11-28T09:21:17.148Z"
   },
   {
    "duration": 3,
    "start_time": "2022-11-28T09:21:17.948Z"
   },
   {
    "duration": 11,
    "start_time": "2022-11-28T09:21:23.369Z"
   },
   {
    "duration": 17,
    "start_time": "2022-11-28T09:21:29.371Z"
   },
   {
    "duration": 4,
    "start_time": "2022-11-28T09:21:30.347Z"
   },
   {
    "duration": 3,
    "start_time": "2022-11-28T09:21:30.753Z"
   },
   {
    "duration": 1419,
    "start_time": "2022-11-28T09:30:04.850Z"
   },
   {
    "duration": 867,
    "start_time": "2022-11-28T09:30:06.271Z"
   },
   {
    "duration": 7,
    "start_time": "2022-11-28T09:30:08.454Z"
   },
   {
    "duration": 30,
    "start_time": "2022-11-28T09:30:08.741Z"
   },
   {
    "duration": 2,
    "start_time": "2022-11-28T09:30:11.562Z"
   },
   {
    "duration": 27,
    "start_time": "2022-11-28T09:30:12.738Z"
   },
   {
    "duration": 18,
    "start_time": "2022-11-28T09:30:15.919Z"
   },
   {
    "duration": 383,
    "start_time": "2022-11-28T09:30:16.956Z"
   },
   {
    "duration": 7,
    "start_time": "2022-11-28T09:30:20.473Z"
   },
   {
    "duration": 43,
    "start_time": "2022-11-28T09:31:20.741Z"
   },
   {
    "duration": 4,
    "start_time": "2022-11-28T09:31:23.535Z"
   },
   {
    "duration": 3,
    "start_time": "2022-11-28T09:31:25.201Z"
   },
   {
    "duration": 1454,
    "start_time": "2022-11-28T09:50:55.252Z"
   },
   {
    "duration": 859,
    "start_time": "2022-11-28T09:50:57.320Z"
   },
   {
    "duration": 6,
    "start_time": "2022-11-28T09:50:58.181Z"
   },
   {
    "duration": 45,
    "start_time": "2022-11-28T09:50:58.188Z"
   },
   {
    "duration": 123,
    "start_time": "2022-11-28T09:50:58.381Z"
   },
   {
    "duration": 1450,
    "start_time": "2022-11-28T09:51:31.440Z"
   },
   {
    "duration": 890,
    "start_time": "2022-11-28T09:51:32.892Z"
   },
   {
    "duration": 6,
    "start_time": "2022-11-28T09:51:33.783Z"
   },
   {
    "duration": 48,
    "start_time": "2022-11-28T09:51:33.792Z"
   },
   {
    "duration": 27,
    "start_time": "2022-11-28T09:51:33.842Z"
   },
   {
    "duration": 9,
    "start_time": "2022-11-28T09:51:37.694Z"
   },
   {
    "duration": 6,
    "start_time": "2022-11-28T09:51:38.445Z"
   },
   {
    "duration": 359,
    "start_time": "2022-11-28T09:51:40.742Z"
   },
   {
    "duration": 6,
    "start_time": "2022-11-28T09:51:42.960Z"
   },
   {
    "duration": 10,
    "start_time": "2022-11-28T09:51:44.999Z"
   },
   {
    "duration": 3,
    "start_time": "2022-11-28T09:51:46.967Z"
   },
   {
    "duration": 3,
    "start_time": "2022-11-28T09:51:48.038Z"
   },
   {
    "duration": 1499,
    "start_time": "2022-11-28T10:29:50.261Z"
   },
   {
    "duration": 852,
    "start_time": "2022-11-28T10:29:54.728Z"
   },
   {
    "duration": 7,
    "start_time": "2022-11-28T10:29:55.582Z"
   },
   {
    "duration": 53,
    "start_time": "2022-11-28T10:29:55.591Z"
   },
   {
    "duration": 37,
    "start_time": "2022-11-28T10:29:57.409Z"
   },
   {
    "duration": 7,
    "start_time": "2022-11-28T10:29:57.891Z"
   },
   {
    "duration": 5,
    "start_time": "2022-11-28T10:30:00.038Z"
   },
   {
    "duration": 349,
    "start_time": "2022-11-28T10:30:01.638Z"
   },
   {
    "duration": 6,
    "start_time": "2022-11-28T10:30:01.988Z"
   },
   {
    "duration": 10,
    "start_time": "2022-11-28T10:30:03.513Z"
   },
   {
    "duration": 4,
    "start_time": "2022-11-28T10:30:04.402Z"
   },
   {
    "duration": 5,
    "start_time": "2022-11-28T10:30:04.822Z"
   },
   {
    "duration": 1498,
    "start_time": "2022-11-28T10:55:22.571Z"
   },
   {
    "duration": 829,
    "start_time": "2022-11-28T10:55:24.071Z"
   },
   {
    "duration": 17,
    "start_time": "2022-11-28T10:55:24.902Z"
   },
   {
    "duration": 38,
    "start_time": "2022-11-28T10:55:24.921Z"
   },
   {
    "duration": 24,
    "start_time": "2022-11-28T10:55:26.758Z"
   },
   {
    "duration": 10,
    "start_time": "2022-11-28T10:55:30.005Z"
   },
   {
    "duration": 4,
    "start_time": "2022-11-28T10:55:30.342Z"
   },
   {
    "duration": 346,
    "start_time": "2022-11-28T10:55:31.324Z"
   },
   {
    "duration": 6,
    "start_time": "2022-11-28T10:55:33.233Z"
   },
   {
    "duration": 10,
    "start_time": "2022-11-28T10:55:35.015Z"
   },
   {
    "duration": 4,
    "start_time": "2022-11-28T10:55:52.037Z"
   },
   {
    "duration": 3,
    "start_time": "2022-11-28T10:55:52.480Z"
   },
   {
    "duration": 1455,
    "start_time": "2022-11-28T10:57:52.283Z"
   },
   {
    "duration": 833,
    "start_time": "2022-11-28T10:57:53.741Z"
   },
   {
    "duration": 6,
    "start_time": "2022-11-28T10:57:54.576Z"
   },
   {
    "duration": 50,
    "start_time": "2022-11-28T10:57:54.583Z"
   },
   {
    "duration": 38,
    "start_time": "2022-11-28T10:57:54.641Z"
   },
   {
    "duration": 7,
    "start_time": "2022-11-28T10:57:55.471Z"
   },
   {
    "duration": 4,
    "start_time": "2022-11-28T10:57:55.708Z"
   },
   {
    "duration": 342,
    "start_time": "2022-11-28T10:57:57.460Z"
   },
   {
    "duration": 18,
    "start_time": "2022-11-28T10:57:57.804Z"
   },
   {
    "duration": 7,
    "start_time": "2022-11-28T10:58:00.399Z"
   },
   {
    "duration": 4,
    "start_time": "2022-11-28T10:58:02.466Z"
   },
   {
    "duration": 3,
    "start_time": "2022-11-28T10:58:02.739Z"
   },
   {
    "duration": 1465,
    "start_time": "2022-11-29T12:51:40.701Z"
   },
   {
    "duration": 176,
    "start_time": "2022-11-29T12:51:43.929Z"
   },
   {
    "duration": 9,
    "start_time": "2022-11-29T12:51:44.173Z"
   },
   {
    "duration": 8,
    "start_time": "2022-11-29T12:51:44.383Z"
   },
   {
    "duration": 1362,
    "start_time": "2022-11-29T12:52:20.153Z"
   },
   {
    "duration": 2443,
    "start_time": "2022-11-29T12:52:24.790Z"
   },
   {
    "duration": 14,
    "start_time": "2022-11-29T12:52:27.235Z"
   },
   {
    "duration": 32,
    "start_time": "2022-11-29T12:52:27.251Z"
   },
   {
    "duration": 26,
    "start_time": "2022-11-29T12:52:27.397Z"
   },
   {
    "duration": 11,
    "start_time": "2022-11-29T12:52:27.846Z"
   },
   {
    "duration": 552,
    "start_time": "2022-11-29T12:52:28.528Z"
   },
   {
    "duration": 7,
    "start_time": "2022-11-29T12:52:29.082Z"
   },
   {
    "duration": 33199,
    "start_time": "2022-11-29T12:52:29.673Z"
   },
   {
    "duration": 8039,
    "start_time": "2022-11-29T12:53:02.874Z"
   },
   {
    "duration": 6,
    "start_time": "2022-11-29T12:53:10.915Z"
   },
   {
    "duration": 53,
    "start_time": "2022-11-29T12:53:10.923Z"
   },
   {
    "duration": 4,
    "start_time": "2022-11-29T12:53:10.977Z"
   },
   {
    "duration": 5756,
    "start_time": "2022-11-29T12:53:10.982Z"
   },
   {
    "duration": 1314,
    "start_time": "2022-11-29T12:53:16.740Z"
   },
   {
    "duration": 3,
    "start_time": "2022-11-29T12:53:18.056Z"
   },
   {
    "duration": 28,
    "start_time": "2022-11-29T12:53:18.061Z"
   },
   {
    "duration": 23,
    "start_time": "2022-11-29T12:53:18.091Z"
   },
   {
    "duration": 50020,
    "start_time": "2022-11-29T12:53:18.116Z"
   },
   {
    "duration": 54533,
    "start_time": "2022-11-29T12:54:08.138Z"
   },
   {
    "duration": 339663,
    "start_time": "2022-11-29T12:55:02.673Z"
   },
   {
    "duration": 11,
    "start_time": "2022-11-29T13:00:42.338Z"
   },
   {
    "duration": 94,
    "start_time": "2022-11-29T14:58:39.043Z"
   },
   {
    "duration": 1408,
    "start_time": "2022-11-29T18:50:51.185Z"
   },
   {
    "duration": 3201,
    "start_time": "2022-11-29T18:50:53.880Z"
   },
   {
    "duration": 12,
    "start_time": "2022-11-29T18:50:57.082Z"
   },
   {
    "duration": 41,
    "start_time": "2022-11-29T18:50:57.096Z"
   },
   {
    "duration": 24,
    "start_time": "2022-11-29T18:50:57.365Z"
   },
   {
    "duration": 10,
    "start_time": "2022-11-29T18:51:01.149Z"
   },
   {
    "duration": 527,
    "start_time": "2022-11-29T18:51:02.031Z"
   },
   {
    "duration": 33973,
    "start_time": "2022-11-29T19:00:27.334Z"
   },
   {
    "duration": 931,
    "start_time": "2022-11-29T19:01:47.307Z"
   },
   {
    "duration": 301,
    "start_time": "2022-11-29T19:01:50.604Z"
   },
   {
    "duration": 1858,
    "start_time": "2022-11-29T19:05:08.289Z"
   },
   {
    "duration": 2613,
    "start_time": "2022-11-29T19:05:10.150Z"
   },
   {
    "duration": 12,
    "start_time": "2022-11-29T19:05:12.765Z"
   },
   {
    "duration": 42,
    "start_time": "2022-11-29T19:05:12.779Z"
   },
   {
    "duration": 50,
    "start_time": "2022-11-29T19:05:12.823Z"
   },
   {
    "duration": 10,
    "start_time": "2022-11-29T19:05:13.265Z"
   },
   {
    "duration": 400,
    "start_time": "2022-11-29T19:05:13.833Z"
   },
   {
    "duration": 8,
    "start_time": "2022-11-29T19:05:14.235Z"
   },
   {
    "duration": 256,
    "start_time": "2022-11-29T19:05:16.591Z"
   },
   {
    "duration": 35953,
    "start_time": "2022-11-29T19:05:19.393Z"
   },
   {
    "duration": 129,
    "start_time": "2022-11-29T19:06:11.630Z"
   },
   {
    "duration": 125,
    "start_time": "2022-11-29T19:06:26.598Z"
   },
   {
    "duration": 347,
    "start_time": "2022-11-29T19:06:57.623Z"
   },
   {
    "duration": 395915,
    "start_time": "2022-11-29T19:07:13.034Z"
   },
   {
    "duration": 19940,
    "start_time": "2022-11-29T19:13:54.552Z"
   },
   {
    "duration": 15,
    "start_time": "2022-11-29T19:14:32.852Z"
   },
   {
    "duration": 10,
    "start_time": "2022-11-29T19:14:51.252Z"
   },
   {
    "duration": 10,
    "start_time": "2022-11-29T19:15:03.675Z"
   },
   {
    "duration": 5,
    "start_time": "2022-11-29T19:15:22.657Z"
   },
   {
    "duration": 194,
    "start_time": "2022-11-29T19:17:38.364Z"
   },
   {
    "duration": 169,
    "start_time": "2022-11-29T19:18:07.311Z"
   },
   {
    "duration": 1340,
    "start_time": "2022-11-29T19:18:34.439Z"
   },
   {
    "duration": 878,
    "start_time": "2022-11-29T19:18:35.781Z"
   },
   {
    "duration": 13,
    "start_time": "2022-11-29T19:18:36.661Z"
   },
   {
    "duration": 42,
    "start_time": "2022-11-29T19:18:36.675Z"
   },
   {
    "duration": 30,
    "start_time": "2022-11-29T19:18:36.772Z"
   },
   {
    "duration": 12,
    "start_time": "2022-11-29T19:18:37.404Z"
   },
   {
    "duration": 347,
    "start_time": "2022-11-29T19:18:37.875Z"
   },
   {
    "duration": 6,
    "start_time": "2022-11-29T19:18:38.223Z"
   },
   {
    "duration": 228,
    "start_time": "2022-11-29T19:18:40.680Z"
   },
   {
    "duration": 1461,
    "start_time": "2022-11-29T19:18:57.170Z"
   },
   {
    "duration": 863,
    "start_time": "2022-11-29T19:18:58.633Z"
   },
   {
    "duration": 17,
    "start_time": "2022-11-29T19:18:59.497Z"
   },
   {
    "duration": 36,
    "start_time": "2022-11-29T19:18:59.515Z"
   },
   {
    "duration": 45,
    "start_time": "2022-11-29T19:18:59.553Z"
   },
   {
    "duration": 12,
    "start_time": "2022-11-29T19:19:01.008Z"
   },
   {
    "duration": 366,
    "start_time": "2022-11-29T19:19:01.468Z"
   },
   {
    "duration": 6,
    "start_time": "2022-11-29T19:19:01.836Z"
   },
   {
    "duration": 286,
    "start_time": "2022-11-29T19:19:06.683Z"
   },
   {
    "duration": 33058,
    "start_time": "2022-11-29T19:19:07.447Z"
   },
   {
    "duration": 1498,
    "start_time": "2022-11-29T19:27:51.571Z"
   },
   {
    "duration": 904,
    "start_time": "2022-11-29T19:27:53.072Z"
   },
   {
    "duration": 13,
    "start_time": "2022-11-29T19:27:53.978Z"
   },
   {
    "duration": 35,
    "start_time": "2022-11-29T19:27:54.004Z"
   },
   {
    "duration": 29,
    "start_time": "2022-11-29T19:27:54.041Z"
   },
   {
    "duration": 35,
    "start_time": "2022-11-29T19:27:54.073Z"
   },
   {
    "duration": 374,
    "start_time": "2022-11-29T19:27:55.819Z"
   },
   {
    "duration": 11,
    "start_time": "2022-11-29T19:27:56.196Z"
   },
   {
    "duration": 306,
    "start_time": "2022-11-29T19:28:04.281Z"
   },
   {
    "duration": 486,
    "start_time": "2022-11-29T19:28:06.330Z"
   },
   {
    "duration": 369,
    "start_time": "2022-11-29T19:28:40.857Z"
   },
   {
    "duration": 357,
    "start_time": "2022-11-29T19:28:52.423Z"
   },
   {
    "duration": 475,
    "start_time": "2022-11-29T19:29:40.467Z"
   },
   {
    "duration": 403,
    "start_time": "2022-11-29T19:31:53.049Z"
   },
   {
    "duration": 431,
    "start_time": "2022-11-29T19:32:02.236Z"
   },
   {
    "duration": 406,
    "start_time": "2022-11-29T19:33:24.560Z"
   },
   {
    "duration": 92,
    "start_time": "2022-11-29T19:34:41.640Z"
   },
   {
    "duration": 395,
    "start_time": "2022-11-29T19:34:51.339Z"
   },
   {
    "duration": 15,
    "start_time": "2022-11-29T19:36:46.528Z"
   },
   {
    "duration": 1790,
    "start_time": "2022-11-29T19:37:09.697Z"
   },
   {
    "duration": 1260,
    "start_time": "2022-11-29T19:37:11.489Z"
   },
   {
    "duration": 17,
    "start_time": "2022-11-29T19:37:12.752Z"
   },
   {
    "duration": 52,
    "start_time": "2022-11-29T19:37:12.771Z"
   },
   {
    "duration": 32,
    "start_time": "2022-11-29T19:37:12.825Z"
   },
   {
    "duration": 12,
    "start_time": "2022-11-29T19:37:12.859Z"
   },
   {
    "duration": 490,
    "start_time": "2022-11-29T19:37:14.117Z"
   },
   {
    "duration": 8,
    "start_time": "2022-11-29T19:37:14.609Z"
   },
   {
    "duration": 419,
    "start_time": "2022-11-29T19:37:16.867Z"
   },
   {
    "duration": 194,
    "start_time": "2022-11-29T19:37:17.343Z"
   },
   {
    "duration": 10,
    "start_time": "2022-11-29T19:37:43.936Z"
   },
   {
    "duration": 4217,
    "start_time": "2022-11-29T19:38:30.299Z"
   },
   {
    "duration": 1462,
    "start_time": "2022-11-29T19:38:54.543Z"
   },
   {
    "duration": 915,
    "start_time": "2022-11-29T19:38:56.007Z"
   },
   {
    "duration": 14,
    "start_time": "2022-11-29T19:38:56.924Z"
   },
   {
    "duration": 46,
    "start_time": "2022-11-29T19:38:56.940Z"
   },
   {
    "duration": 36,
    "start_time": "2022-11-29T19:38:56.988Z"
   },
   {
    "duration": 32,
    "start_time": "2022-11-29T19:38:57.026Z"
   },
   {
    "duration": 384,
    "start_time": "2022-11-29T19:38:58.548Z"
   },
   {
    "duration": 6,
    "start_time": "2022-11-29T19:38:58.934Z"
   },
   {
    "duration": 339,
    "start_time": "2022-11-29T19:39:13.717Z"
   },
   {
    "duration": 4475,
    "start_time": "2022-11-29T19:39:14.644Z"
   },
   {
    "duration": 686322,
    "start_time": "2022-11-29T19:39:19.122Z"
   },
   {
    "duration": 428,
    "start_time": "2022-11-29T19:50:45.445Z"
   },
   {
    "duration": 0,
    "start_time": "2022-11-29T19:50:45.875Z"
   },
   {
    "duration": 319,
    "start_time": "2022-11-29T19:51:14.072Z"
   },
   {
    "duration": 19343,
    "start_time": "2022-11-29T19:51:17.490Z"
   },
   {
    "duration": 7,
    "start_time": "2022-11-29T19:51:48.186Z"
   },
   {
    "duration": 380,
    "start_time": "2022-11-29T19:52:34.942Z"
   },
   {
    "duration": 2320,
    "start_time": "2022-11-29T19:52:51.412Z"
   },
   {
    "duration": 2127,
    "start_time": "2022-11-29T19:52:56.206Z"
   },
   {
    "duration": 6,
    "start_time": "2022-11-29T19:53:01.931Z"
   },
   {
    "duration": 1376,
    "start_time": "2022-11-29T19:58:50.225Z"
   },
   {
    "duration": 881,
    "start_time": "2022-11-29T19:58:51.602Z"
   },
   {
    "duration": 14,
    "start_time": "2022-11-29T19:58:52.484Z"
   },
   {
    "duration": 32,
    "start_time": "2022-11-29T19:58:52.505Z"
   },
   {
    "duration": 26,
    "start_time": "2022-11-29T19:58:52.539Z"
   },
   {
    "duration": 23,
    "start_time": "2022-11-29T19:58:52.567Z"
   },
   {
    "duration": 348,
    "start_time": "2022-11-29T19:58:53.058Z"
   },
   {
    "duration": 6,
    "start_time": "2022-11-29T19:58:53.408Z"
   },
   {
    "duration": 325,
    "start_time": "2022-11-29T19:58:55.354Z"
   },
   {
    "duration": 4507,
    "start_time": "2022-11-29T19:58:55.909Z"
   },
   {
    "duration": 1430,
    "start_time": "2022-11-29T20:00:12.366Z"
   },
   {
    "duration": 894,
    "start_time": "2022-11-29T20:00:13.798Z"
   },
   {
    "duration": 16,
    "start_time": "2022-11-29T20:00:14.693Z"
   },
   {
    "duration": 49,
    "start_time": "2022-11-29T20:00:14.712Z"
   },
   {
    "duration": 34,
    "start_time": "2022-11-29T20:00:14.762Z"
   },
   {
    "duration": 19,
    "start_time": "2022-11-29T20:00:14.798Z"
   },
   {
    "duration": 360,
    "start_time": "2022-11-29T20:00:14.903Z"
   },
   {
    "duration": 8,
    "start_time": "2022-11-29T20:00:15.266Z"
   },
   {
    "duration": 324,
    "start_time": "2022-11-29T20:00:15.994Z"
   },
   {
    "duration": 4348,
    "start_time": "2022-11-29T20:00:16.320Z"
   },
   {
    "duration": 390705,
    "start_time": "2022-11-29T20:00:20.669Z"
   },
   {
    "duration": 2836,
    "start_time": "2022-11-29T20:06:51.376Z"
   },
   {
    "duration": 0,
    "start_time": "2022-11-29T20:06:54.214Z"
   },
   {
    "duration": 25,
    "start_time": "2022-11-29T20:10:12.971Z"
   },
   {
    "duration": 3,
    "start_time": "2022-11-29T20:11:37.938Z"
   },
   {
    "duration": 335,
    "start_time": "2022-11-29T20:11:56.369Z"
   },
   {
    "duration": 313,
    "start_time": "2022-11-29T20:13:01.008Z"
   },
   {
    "duration": 14,
    "start_time": "2022-11-29T20:14:55.931Z"
   },
   {
    "duration": 297,
    "start_time": "2022-11-29T20:15:22.930Z"
   },
   {
    "duration": 377,
    "start_time": "2022-11-29T20:20:53.374Z"
   },
   {
    "duration": 77,
    "start_time": "2022-11-29T20:21:58.442Z"
   },
   {
    "duration": 26,
    "start_time": "2022-11-29T20:23:49.950Z"
   },
   {
    "duration": 288,
    "start_time": "2022-11-29T20:24:06.841Z"
   },
   {
    "duration": 314,
    "start_time": "2022-11-29T20:24:19.032Z"
   },
   {
    "duration": 425,
    "start_time": "2022-11-29T20:24:51.496Z"
   },
   {
    "duration": 307,
    "start_time": "2022-11-29T20:26:11.398Z"
   },
   {
    "duration": 89,
    "start_time": "2022-11-29T20:27:16.968Z"
   },
   {
    "duration": 47,
    "start_time": "2022-11-29T20:28:24.435Z"
   },
   {
    "duration": 85,
    "start_time": "2022-11-29T20:28:32.519Z"
   },
   {
    "duration": 1309,
    "start_time": "2022-11-29T20:29:39.552Z"
   },
   {
    "duration": 884,
    "start_time": "2022-11-29T20:29:40.863Z"
   },
   {
    "duration": 13,
    "start_time": "2022-11-29T20:29:41.748Z"
   },
   {
    "duration": 42,
    "start_time": "2022-11-29T20:29:41.763Z"
   },
   {
    "duration": 27,
    "start_time": "2022-11-29T20:29:41.807Z"
   },
   {
    "duration": 12,
    "start_time": "2022-11-29T20:29:41.835Z"
   },
   {
    "duration": 371,
    "start_time": "2022-11-29T20:29:41.848Z"
   },
   {
    "duration": 6,
    "start_time": "2022-11-29T20:29:42.221Z"
   },
   {
    "duration": 269,
    "start_time": "2022-11-29T20:29:44.237Z"
   },
   {
    "duration": 4244,
    "start_time": "2022-11-29T20:29:44.726Z"
   },
   {
    "duration": 385308,
    "start_time": "2022-11-29T20:29:48.972Z"
   },
   {
    "duration": 2849,
    "start_time": "2022-11-29T20:36:14.282Z"
   },
   {
    "duration": 452,
    "start_time": "2022-11-29T20:41:51.536Z"
   },
   {
    "duration": 3,
    "start_time": "2022-11-29T20:44:58.330Z"
   },
   {
    "duration": 717,
    "start_time": "2022-11-29T20:45:04.476Z"
   },
   {
    "duration": 750,
    "start_time": "2022-11-29T20:45:08.441Z"
   },
   {
    "duration": 6,
    "start_time": "2022-11-29T20:45:12.479Z"
   },
   {
    "duration": 223,
    "start_time": "2022-11-29T20:45:36.803Z"
   },
   {
    "duration": 288,
    "start_time": "2022-11-29T20:46:10.507Z"
   },
   {
    "duration": 323,
    "start_time": "2022-11-29T20:46:24.958Z"
   },
   {
    "duration": 289,
    "start_time": "2022-11-29T20:46:40.170Z"
   },
   {
    "duration": 327,
    "start_time": "2022-11-29T20:51:32.718Z"
   },
   {
    "duration": 8015,
    "start_time": "2022-11-29T20:52:03.612Z"
   },
   {
    "duration": 16060,
    "start_time": "2022-11-29T21:13:07.136Z"
   },
   {
    "duration": 140,
    "start_time": "2022-11-29T21:13:29.353Z"
   },
   {
    "duration": 6,
    "start_time": "2022-11-29T21:13:33.620Z"
   },
   {
    "duration": 511,
    "start_time": "2022-11-29T21:14:11.564Z"
   },
   {
    "duration": 1348,
    "start_time": "2022-11-30T09:38:59.989Z"
   },
   {
    "duration": 2386,
    "start_time": "2022-11-30T09:39:02.115Z"
   },
   {
    "duration": 13,
    "start_time": "2022-11-30T09:39:04.503Z"
   },
   {
    "duration": 30,
    "start_time": "2022-11-30T09:39:04.518Z"
   },
   {
    "duration": 29,
    "start_time": "2022-11-30T09:39:04.550Z"
   },
   {
    "duration": 13,
    "start_time": "2022-11-30T09:39:04.581Z"
   },
   {
    "duration": 534,
    "start_time": "2022-11-30T09:39:04.596Z"
   },
   {
    "duration": 6,
    "start_time": "2022-11-30T09:39:05.134Z"
   },
   {
    "duration": 298,
    "start_time": "2022-11-30T09:39:05.474Z"
   },
   {
    "duration": 4268,
    "start_time": "2022-11-30T09:39:05.774Z"
   },
   {
    "duration": 341,
    "start_time": "2022-11-30T09:39:10.045Z"
   },
   {
    "duration": 0,
    "start_time": "2022-11-30T09:39:10.388Z"
   },
   {
    "duration": 0,
    "start_time": "2022-11-30T09:39:10.389Z"
   },
   {
    "duration": 1407,
    "start_time": "2022-11-30T09:39:52.410Z"
   },
   {
    "duration": 800,
    "start_time": "2022-11-30T09:39:53.819Z"
   },
   {
    "duration": 16,
    "start_time": "2022-11-30T09:39:54.620Z"
   },
   {
    "duration": 29,
    "start_time": "2022-11-30T09:39:54.638Z"
   },
   {
    "duration": 25,
    "start_time": "2022-11-30T09:39:54.669Z"
   },
   {
    "duration": 13,
    "start_time": "2022-11-30T09:39:54.696Z"
   },
   {
    "duration": 340,
    "start_time": "2022-11-30T09:39:54.895Z"
   },
   {
    "duration": 5,
    "start_time": "2022-11-30T09:39:55.237Z"
   },
   {
    "duration": 251,
    "start_time": "2022-11-30T09:39:57.295Z"
   },
   {
    "duration": 4149,
    "start_time": "2022-11-30T09:39:57.573Z"
   },
   {
    "duration": 620,
    "start_time": "2022-11-30T09:40:01.725Z"
   },
   {
    "duration": 397775,
    "start_time": "2022-11-30T09:40:02.346Z"
   },
   {
    "duration": 337,
    "start_time": "2022-11-30T09:46:40.124Z"
   },
   {
    "duration": 0,
    "start_time": "2022-11-30T09:46:40.463Z"
   },
   {
    "duration": 2631,
    "start_time": "2022-11-30T09:55:07.627Z"
   },
   {
    "duration": 1416,
    "start_time": "2022-11-30T09:57:47.014Z"
   },
   {
    "duration": 875,
    "start_time": "2022-11-30T09:57:48.431Z"
   },
   {
    "duration": 14,
    "start_time": "2022-11-30T09:57:49.369Z"
   },
   {
    "duration": 35,
    "start_time": "2022-11-30T09:57:49.727Z"
   },
   {
    "duration": 27,
    "start_time": "2022-11-30T09:57:51.882Z"
   },
   {
    "duration": 13,
    "start_time": "2022-11-30T09:57:52.456Z"
   },
   {
    "duration": 358,
    "start_time": "2022-11-30T09:57:53.148Z"
   },
   {
    "duration": 6,
    "start_time": "2022-11-30T09:57:53.508Z"
   },
   {
    "duration": 253,
    "start_time": "2022-11-30T09:57:55.543Z"
   },
   {
    "duration": 33115,
    "start_time": "2022-11-30T09:57:57.246Z"
   },
   {
    "duration": 210,
    "start_time": "2022-11-30T09:58:30.363Z"
   },
   {
    "duration": 402919,
    "start_time": "2022-11-30T09:58:30.575Z"
   },
   {
    "duration": 19745,
    "start_time": "2022-11-30T10:05:13.496Z"
   },
   {
    "duration": 7,
    "start_time": "2022-11-30T10:05:33.243Z"
   },
   {
    "duration": 46,
    "start_time": "2022-11-30T10:05:33.252Z"
   },
   {
    "duration": 3,
    "start_time": "2022-11-30T10:07:10.481Z"
   },
   {
    "duration": 9866,
    "start_time": "2022-11-30T10:07:10.791Z"
   },
   {
    "duration": 2377,
    "start_time": "2022-11-30T10:07:20.658Z"
   },
   {
    "duration": 3,
    "start_time": "2022-11-30T10:07:23.037Z"
   },
   {
    "duration": 17,
    "start_time": "2022-11-30T10:07:23.042Z"
   },
   {
    "duration": 20,
    "start_time": "2022-11-30T10:07:23.061Z"
   },
   {
    "duration": 54611,
    "start_time": "2022-11-30T10:09:16.525Z"
   },
   {
    "duration": 286187,
    "start_time": "2022-11-30T10:11:13.395Z"
   },
   {
    "duration": 12,
    "start_time": "2022-11-30T10:15:59.636Z"
   },
   {
    "duration": 63025,
    "start_time": "2022-11-30T10:15:59.650Z"
   },
   {
    "duration": 1306,
    "start_time": "2022-11-30T10:19:10.857Z"
   },
   {
    "duration": 972,
    "start_time": "2022-11-30T10:19:12.165Z"
   },
   {
    "duration": 13,
    "start_time": "2022-11-30T10:19:13.138Z"
   },
   {
    "duration": 30,
    "start_time": "2022-11-30T10:19:13.153Z"
   },
   {
    "duration": 28,
    "start_time": "2022-11-30T10:19:13.185Z"
   },
   {
    "duration": 29,
    "start_time": "2022-11-30T10:19:13.214Z"
   },
   {
    "duration": 360,
    "start_time": "2022-11-30T10:19:13.245Z"
   },
   {
    "duration": 7,
    "start_time": "2022-11-30T10:19:13.607Z"
   },
   {
    "duration": 274,
    "start_time": "2022-11-30T10:19:14.107Z"
   },
   {
    "duration": 29256,
    "start_time": "2022-11-30T10:19:14.383Z"
   },
   {
    "duration": 204,
    "start_time": "2022-11-30T10:19:43.641Z"
   },
   {
    "duration": 676616,
    "start_time": "2022-11-30T10:19:43.847Z"
   },
   {
    "duration": 19505,
    "start_time": "2022-11-30T10:31:00.466Z"
   },
   {
    "duration": 6,
    "start_time": "2022-11-30T10:31:19.973Z"
   },
   {
    "duration": 63,
    "start_time": "2022-11-30T10:31:19.980Z"
   },
   {
    "duration": 4,
    "start_time": "2022-11-30T10:31:20.045Z"
   },
   {
    "duration": 9563,
    "start_time": "2022-11-30T10:31:20.050Z"
   },
   {
    "duration": 2202,
    "start_time": "2022-11-30T10:31:29.615Z"
   },
   {
    "duration": 3,
    "start_time": "2022-11-30T10:31:31.820Z"
   },
   {
    "duration": 42,
    "start_time": "2022-11-30T10:31:31.825Z"
   },
   {
    "duration": 36,
    "start_time": "2022-11-30T10:31:31.869Z"
   },
   {
    "duration": 54929,
    "start_time": "2022-11-30T10:31:31.907Z"
   },
   {
    "duration": 58225,
    "start_time": "2022-11-30T10:32:26.838Z"
   },
   {
    "duration": 322008,
    "start_time": "2022-11-30T10:33:25.065Z"
   },
   {
    "duration": 11,
    "start_time": "2022-11-30T10:38:47.136Z"
   },
   {
    "duration": 174,
    "start_time": "2022-11-30T10:39:08.123Z"
   },
   {
    "duration": 14,
    "start_time": "2022-11-30T10:39:16.969Z"
   },
   {
    "duration": 2775,
    "start_time": "2022-12-01T08:30:18.038Z"
   },
   {
    "duration": 3948,
    "start_time": "2022-12-01T08:30:20.815Z"
   },
   {
    "duration": 13,
    "start_time": "2022-12-01T08:30:24.765Z"
   },
   {
    "duration": 33,
    "start_time": "2022-12-01T08:30:24.780Z"
   },
   {
    "duration": 24,
    "start_time": "2022-12-01T08:30:24.815Z"
   },
   {
    "duration": 10,
    "start_time": "2022-12-01T08:30:24.841Z"
   },
   {
    "duration": 556,
    "start_time": "2022-12-01T08:30:24.853Z"
   },
   {
    "duration": 7,
    "start_time": "2022-12-01T08:30:25.411Z"
   },
   {
    "duration": 2,
    "start_time": "2022-12-01T08:30:25.420Z"
   },
   {
    "duration": 8,
    "start_time": "2022-12-01T08:30:25.425Z"
   },
   {
    "duration": 1169,
    "start_time": "2022-12-01T08:30:25.435Z"
   },
   {
    "duration": 502,
    "start_time": "2022-12-01T08:30:26.606Z"
   },
   {
    "duration": 124,
    "start_time": "2022-12-01T08:30:27.110Z"
   },
   {
    "duration": 5,
    "start_time": "2022-12-01T08:30:27.236Z"
   },
   {
    "duration": 20,
    "start_time": "2022-12-01T08:30:27.243Z"
   },
   {
    "duration": 4,
    "start_time": "2022-12-01T08:40:31.817Z"
   },
   {
    "duration": 1907,
    "start_time": "2022-12-01T13:01:39.919Z"
   },
   {
    "duration": 817,
    "start_time": "2022-12-01T13:01:41.828Z"
   },
   {
    "duration": 15,
    "start_time": "2022-12-01T13:01:42.647Z"
   },
   {
    "duration": 39,
    "start_time": "2022-12-01T13:01:42.664Z"
   },
   {
    "duration": 42,
    "start_time": "2022-12-01T13:01:42.704Z"
   },
   {
    "duration": 32,
    "start_time": "2022-12-01T13:01:42.748Z"
   },
   {
    "duration": 363,
    "start_time": "2022-12-01T13:01:42.782Z"
   },
   {
    "duration": 6,
    "start_time": "2022-12-01T13:01:43.146Z"
   },
   {
    "duration": 3,
    "start_time": "2022-12-01T13:01:43.153Z"
   },
   {
    "duration": 6,
    "start_time": "2022-12-01T13:01:43.158Z"
   },
   {
    "duration": 147,
    "start_time": "2022-12-01T13:01:43.165Z"
   },
   {
    "duration": 4,
    "start_time": "2022-12-01T13:01:43.313Z"
   },
   {
    "duration": 1944,
    "start_time": "2022-12-01T13:01:43.318Z"
   },
   {
    "duration": 10,
    "start_time": "2022-12-01T13:01:45.263Z"
   },
   {
    "duration": 9,
    "start_time": "2022-12-01T13:01:45.277Z"
   },
   {
    "duration": 5,
    "start_time": "2022-12-01T13:02:06.792Z"
   },
   {
    "duration": 3,
    "start_time": "2022-12-01T13:02:10.497Z"
   },
   {
    "duration": 10,
    "start_time": "2022-12-01T13:02:11.272Z"
   },
   {
    "duration": 6,
    "start_time": "2022-12-01T13:02:13.167Z"
   },
   {
    "duration": 1876,
    "start_time": "2022-12-01T13:02:37.769Z"
   },
   {
    "duration": 797,
    "start_time": "2022-12-01T13:02:39.647Z"
   },
   {
    "duration": 13,
    "start_time": "2022-12-01T13:02:40.446Z"
   },
   {
    "duration": 38,
    "start_time": "2022-12-01T13:02:40.461Z"
   },
   {
    "duration": 24,
    "start_time": "2022-12-01T13:02:40.501Z"
   },
   {
    "duration": 11,
    "start_time": "2022-12-01T13:02:40.526Z"
   },
   {
    "duration": 343,
    "start_time": "2022-12-01T13:02:40.538Z"
   },
   {
    "duration": 5,
    "start_time": "2022-12-01T13:02:40.882Z"
   },
   {
    "duration": 256,
    "start_time": "2022-12-01T13:02:40.889Z"
   },
   {
    "duration": 222,
    "start_time": "2022-12-01T13:02:41.147Z"
   },
   {
    "duration": 5,
    "start_time": "2022-12-01T13:02:41.371Z"
   },
   {
    "duration": 993804,
    "start_time": "2022-12-01T13:02:41.378Z"
   },
   {
    "duration": 7741,
    "start_time": "2022-12-01T13:19:15.184Z"
   },
   {
    "duration": 3,
    "start_time": "2022-12-01T13:19:22.927Z"
   },
   {
    "duration": 48,
    "start_time": "2022-12-01T13:19:22.932Z"
   },
   {
    "duration": 3,
    "start_time": "2022-12-01T13:19:22.982Z"
   },
   {
    "duration": 6437,
    "start_time": "2022-12-01T13:19:22.986Z"
   },
   {
    "duration": 1243,
    "start_time": "2022-12-01T13:19:29.425Z"
   },
   {
    "duration": 3,
    "start_time": "2022-12-01T13:19:30.670Z"
   },
   {
    "duration": 33,
    "start_time": "2022-12-01T13:19:30.674Z"
   },
   {
    "duration": 41,
    "start_time": "2022-12-01T13:19:30.709Z"
   },
   {
    "duration": 57831,
    "start_time": "2022-12-01T13:19:30.751Z"
   },
   {
    "duration": 52784,
    "start_time": "2022-12-01T13:20:28.583Z"
   },
   {
    "duration": 254520,
    "start_time": "2022-12-01T13:21:21.369Z"
   },
   {
    "duration": 11,
    "start_time": "2022-12-01T13:25:35.890Z"
   },
   {
    "duration": 56389,
    "start_time": "2022-12-01T13:31:00.391Z"
   },
   {
    "duration": 10,
    "start_time": "2022-12-01T13:32:27.503Z"
   }
  ],
  "kernelspec": {
   "display_name": "Python 3 (ipykernel)",
   "language": "python",
   "name": "python3"
  },
  "language_info": {
   "codemirror_mode": {
    "name": "ipython",
    "version": 3
   },
   "file_extension": ".py",
   "mimetype": "text/x-python",
   "name": "python",
   "nbconvert_exporter": "python",
   "pygments_lexer": "ipython3",
   "version": "3.9.12"
  },
  "toc": {
   "base_numbering": 1,
   "nav_menu": {},
   "number_sections": true,
   "sideBar": true,
   "skip_h1_title": true,
   "title_cell": "Содержание",
   "title_sidebar": "Contents",
   "toc_cell": true,
   "toc_position": {
    "height": "calc(100% - 180px)",
    "left": "10px",
    "top": "150px",
    "width": "302.391px"
   },
   "toc_section_display": true,
   "toc_window_display": false
  }
 },
 "nbformat": 4,
 "nbformat_minor": 2
}
